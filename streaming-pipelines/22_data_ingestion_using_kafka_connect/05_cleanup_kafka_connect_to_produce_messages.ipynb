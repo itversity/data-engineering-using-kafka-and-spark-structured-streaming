{
 "cells": [
  {
   "cell_type": "markdown",
   "id": "46317ff5",
   "metadata": {},
   "source": [
    "## Cleanup Kafka Connect to produce messages\n",
    "\n",
    "Let us make sure that we clean up Kafka Connect to produce messages from file to the Kafka Topic. It is primarily to release the resources on our labs.\n",
    "* Ensure to kill the job that is running.\n",
    "* Run `kafka-console-consumer.sh` command to see there are no messages being written to Kafka topic.\n",
    "\n",
    "```shell\n",
    "/opt/kafka/bin/kafka-console-consumer.sh \\\n",
    "    --bootstrap-server w01.itversity.com:9092,w02.itversity.com:9092 \\\n",
    "    --topic `whoami`_retail\n",
    "```"
   ]
  },
  {
   "cell_type": "code",
   "execution_count": null,
   "id": "9b05dd3d",
   "metadata": {},
   "outputs": [],
   "source": []
  }
 ],
 "metadata": {
  "kernelspec": {
   "display_name": "Python 3",
   "language": "python",
   "name": "python3"
  },
  "language_info": {
   "codemirror_mode": {
    "name": "ipython",
    "version": 3
   },
   "file_extension": ".py",
   "mimetype": "text/x-python",
   "name": "python",
   "nbconvert_exporter": "python",
   "pygments_lexer": "ipython3",
   "version": "3.6.12"
  }
 },
 "nbformat": 4,
 "nbformat_minor": 5
}
