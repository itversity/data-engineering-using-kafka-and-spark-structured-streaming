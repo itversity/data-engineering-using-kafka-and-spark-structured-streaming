{
 "cells": [
  {
   "cell_type": "markdown",
   "metadata": {},
   "source": [
    "## Run HDFS3 Sink using String Format\n",
    "\n",
    "Let us run the Kafka Connect using HDFS 3 Sink Plugin and validate whether data is flowing in into HDFS or not using String Format.\n",
    "* Make sure that data is being written to Kafka topic by running the command.\n",
    "\n",
    "```shell\n",
    "/opt/kafka/bin/kafka-topics.sh \\\n",
    "    --bootstrap-server w01.itversity.com:9092,w02.itversity.com:9092 \\\n",
    "    --topic `whoami`_retail \\\n",
    "    --create \\\n",
    "    --partitions 3 \\\n",
    "    --replication-factor 2\n",
    "\n",
    "tail_logs.sh|/opt/kafka/bin/kafka-console-producer.sh \\\n",
    "    --bootstrap-server w01.itversity.com:9092,w02.itversity.com:9092 \\\n",
    "    --topic `whoami`_retail\n",
    "\n",
    "/opt/kafka/bin/kafka-console-consumer.sh \\\n",
    "    --bootstrap-server w01.itversity.com:9092,w02.itversity.com:9092 \\\n",
    "    --topic `whoami`_retail\n",
    "```\n",
    "\n",
    "* Go to the terminal\n",
    "* Go to the folder in which we have setup the Kafka connect properties files to get data from Kafka topic to HDFS.\n",
    "\n",
    "```shell\n",
    "cd kafka_connect/retail_logs_consume\n",
    "```\n",
    "\n",
    "* List the files by running `ls -ltr` to ensure that we have required properties files.\n",
    "* Run this command to start the Kafka Connect process\n",
    "\n",
    "```shell\n",
    "/opt/kafka/bin/connect-standalone.sh \\\n",
    "    retail_logs_standalone.properties \\\n",
    "    retail_logs_hdfs_sink.properties\n",
    "```\n",
    "\n",
    "* Validate in the HDFS folder to see if the files are being generated or not."
   ]
  },
  {
   "cell_type": "code",
   "execution_count": 2,
   "metadata": {},
   "outputs": [
    {
     "name": "stdout",
     "output_type": "stream",
     "text": [
      "Found 2 items\n",
      "drwxr-xr-x   - itversity itversity          0 2021-09-02 01:07 /user/itversity/retail_consumer/logs\n",
      "drwxr-xr-x   - itversity itversity          0 2021-09-02 01:07 /user/itversity/retail_consumer/topics\n"
     ]
    }
   ],
   "source": [
    "!hdfs dfs -ls /user/${USER}/retail_consumer/"
   ]
  },
  {
   "cell_type": "code",
   "execution_count": 5,
   "metadata": {},
   "outputs": [
    {
     "name": "stdout",
     "output_type": "stream",
     "text": [
      "Found 2 items\n",
      "drwxr-xr-x   - itversity itversity          0 2021-09-02 01:07 /user/itversity/retail_consumer/topics/+tmp\n",
      "drwxr-xr-x   - itversity itversity          0 2021-09-02 01:07 /user/itversity/retail_consumer/topics/itversity_retail\n"
     ]
    }
   ],
   "source": [
    "!hdfs dfs -ls /user/${USER}/retail_consumer/topics"
   ]
  },
  {
   "cell_type": "code",
   "execution_count": 6,
   "metadata": {},
   "outputs": [
    {
     "name": "stdout",
     "output_type": "stream",
     "text": [
      "Found 3 items\n",
      "drwxr-xr-x   - itversity itversity          0 2021-09-02 01:13 /user/itversity/retail_consumer/topics/itversity_retail/partition=0\n",
      "drwxr-xr-x   - itversity itversity          0 2021-09-02 01:13 /user/itversity/retail_consumer/topics/itversity_retail/partition=1\n",
      "drwxr-xr-x   - itversity itversity          0 2021-09-02 01:13 /user/itversity/retail_consumer/topics/itversity_retail/partition=2\n"
     ]
    }
   ],
   "source": [
    "!hdfs dfs -ls /user/${USER}/retail_consumer/topics/${USER}_retail"
   ]
  },
  {
   "cell_type": "code",
   "execution_count": null,
   "metadata": {},
   "outputs": [],
   "source": [
    "!hdfs dfs -ls /user/${USER}/retail_consumer/topics/${USER}_retail/partition=*"
   ]
  },
  {
   "cell_type": "code",
   "execution_count": 9,
   "metadata": {},
   "outputs": [
    {
     "name": "stdout",
     "output_type": "stream",
     "text": [
      "108.175.94.247 - - [02/Sep/2021:01:05:42 -0800] \"GET /categories/boxing%20%26%20mma/products HTTP/1.1\" 200 2179 \"-\" \"Mozilla/5.0 (X11; Linux x86_64) AppleWebKit/537.36 (KHTML, like Gecko) Chrome/35.0.1916.153 Safari/537.36\"\n",
      "157.63.161.149 - - [02/Sep/2021:01:05:43 -0800] \"GET /login HTTP/1.1\" 200 1812 \"-\" \"Mozilla/5.0 (Windows NT 6.1; WOW64) AppleWebKit/537.36 (KHTML, like Gecko) Chrome/35.0.1916.153 Safari/537.36\"\n",
      "115.50.63.122 - - [02/Sep/2021:01:05:48 -0800] \"GET /login HTTP/1.1\" 200 1449 \"-\" \"Mozilla/5.0 (Macintosh; Intel Mac OS X 10_9_4) AppleWebKit/537.77.4 (KHTML, like Gecko) Version/7.0.5 Safari/537.77.4\"\n",
      "59.174.211.27 - - [02/Sep/2021:01:05:51 -0800] \"GET /department/team%20sports/categories HTTP/1.1\" 200 1097 \"-\" \"Mozilla/5.0 (Windows NT 6.3; WOW64; rv:30.0) Gecko/20100101 Firefox/30.0\"\n",
      "146.230.117.109 - - [02/Sep/2021:01:05:58 -0800] \"GET /login HTTP/1.1\" 200 1497 \"-\" \"Mozilla/5.0 (Windows NT 6.1; WOW64) AppleWebKit/537.36 (KHTML, like Gecko) Chrome/35.0.1916.153 Safari/537.36\"\n",
      "56.211.13.244 - - [02/Sep/2021:01:06:00 -0800] \"GET /login HTTP/1.1\" 200 1026 \"-\" \"Mozilla/5.0 (Windows NT 6.1; WOW64) AppleWebKit/537.36 (KHTML, like Gecko) Chrome/35.0.1916.153 Safari/537.36\"\n",
      "147.25.66.215 - - [02/Sep/2021:01:06:01 -0800] \"GET /departments HTTP/1.1\" 200 284 \"-\" \"Mozilla/5.0 (Windows NT 6.3; WOW64) AppleWebKit/537.36 (KHTML, like Gecko) Chrome/35.0.1916.153 Safari/537.36\"\n",
      "48.133.81.111 - - [02/Sep/2021:01:06:04 -0800] \"GET /department/footwear/categories HTTP/1.1\" 200 1030 \"-\" \"Mozilla/5.0 (Windows NT 6.1; rv:30.0) Gecko/20100101 Firefox/30.0\"\n",
      "18.253.49.75 - - [02/Sep/2021:01:06:05 -0800] \"GET /departments HTTP/1.1\" 200 1315 \"-\" \"Mozilla/5.0 (Windows NT 6.1; WOW64) AppleWebKit/537.36 (KHTML, like Gecko) Chrome/35.0.1916.153 Safari/537.36\"\n",
      "57.205.81.96 - - [02/Sep/2021:01:06:09 -0800] \"GET /department/footwear/categories HTTP/1.1\" 200 860 \"-\" \"Mozilla/5.0 (Macintosh; Intel Mac OS X 10_9_3) AppleWebKit/537.36 (KHTML, like Gecko) Chrome/35.0.1916.153 Safari/537.36\"\n"
     ]
    }
   ],
   "source": [
    "!hdfs dfs -cat /user/itversity/retail_consumer/topics/itversity_retail/partition=0/itversity_retail+0+0000000000+0000000009.txt"
   ]
  },
  {
   "cell_type": "code",
   "execution_count": null,
   "metadata": {},
   "outputs": [],
   "source": []
  }
 ],
 "metadata": {
  "kernelspec": {
   "display_name": "Python 3",
   "language": "python",
   "name": "python3"
  },
  "language_info": {
   "codemirror_mode": {
    "name": "ipython",
    "version": 3
   },
   "file_extension": ".py",
   "mimetype": "text/x-python",
   "name": "python",
   "nbconvert_exporter": "python",
   "pygments_lexer": "ipython3",
   "version": "3.6.12"
  }
 },
 "nbformat": 4,
 "nbformat_minor": 4
}
