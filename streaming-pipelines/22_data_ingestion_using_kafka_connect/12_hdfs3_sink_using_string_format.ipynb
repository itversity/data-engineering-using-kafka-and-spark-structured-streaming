{
 "cells": [
  {
   "cell_type": "markdown",
   "metadata": {},
   "source": [
    "## HDFS3 Sink using String Format\n",
    "\n",
    "Let us configure HDFS 3 Sink Properties so that data can be pushed to HDFS from Kafka Topic using String Format.\n",
    "\n",
    "* Kafka Connect HDFS3 Sink plugin supports following standard file formats out of the box.\n",
    "  * **io.confluent.connect.hdfs3.avro.AvroFormat** (default)\n",
    "  * **io.confluent.connect.hdfs3.json.JsonFormat**\n",
    "  * **io.confluent.connect.hdfs3.parquet.ParquetFormat**\n",
    "  * **io.confluent.connect.hdfs3.string.StringFormat**\n",
    "\n",
    "* Make sure to create a working directory.\n",
    "\n",
    "```shell\n",
    "mkdir -p ~/kafka_connect/retail_logs_consume\n",
    "```\n",
    "\n",
    "* Define worker level properties as part of **retail_logs_standalone.properties**\n",
    "\n",
    "```shell\n",
    "bootstrap.servers=w01.itversity.com:9092,w02.itversity.com:9092\n",
    "\n",
    "key.converter=org.apache.kafka.connect.storage.StringConverter\n",
    "value.converter=org.apache.kafka.connect.storage.StringConverter\n",
    "\n",
    "key.converter.schemas.enable=true\n",
    "value.converter.schemas.enable=true\n",
    "\n",
    "offset.storage.file.filename=/home/itversity/kafka_connect/retail_logs_consume/retail.offsets\n",
    "# Flush much faster than normal, which is useful for testing/debugging\n",
    "offset.flush.interval.ms=10000\n",
    "\n",
    "plugin.path=/opt/kafka/share/plugins\n",
    "# This should point to the base directory of the plugins\n",
    "\n",
    "rest.port=19083\n",
    "# Use 5 digit random port less than 65535\n",
    "```\n",
    "\n",
    "* Define properties for sink. In my case the file name is **retail_logs_hdfs_sink.properties**.\n",
    "\n",
    "```shell\n",
    "name=itversity-retail-hdfs-sink\n",
    "connector.class=io.confluent.connect.hdfs3.Hdfs3SinkConnector\n",
    "format.class=io.confluent.connect.hdfs3.string.StringFormat\n",
    "tasks.max=3\n",
    "confluent.topic.bootstrap.servers=w01.itversity.com:9092,w02.itversity.com:9092\n",
    "topics=itversity_retail\n",
    "hdfs.url=hdfs://m01.itversity.com:9000/user/itversity/retail_consumer\n",
    "# Make sure to change this as per your HDFS folder.\n",
    "flush.size=10\n",
    "```"
   ]
  },
  {
   "cell_type": "code",
   "execution_count": null,
   "metadata": {},
   "outputs": [],
   "source": []
  }
 ],
 "metadata": {
  "kernelspec": {
   "display_name": "Python 3",
   "language": "python",
   "name": "python3"
  },
  "language_info": {
   "codemirror_mode": {
    "name": "ipython",
    "version": 3
   },
   "file_extension": ".py",
   "mimetype": "text/x-python",
   "name": "python",
   "nbconvert_exporter": "python",
   "pygments_lexer": "ipython3",
   "version": "3.6.12"
  }
 },
 "nbformat": 4,
 "nbformat_minor": 4
}
