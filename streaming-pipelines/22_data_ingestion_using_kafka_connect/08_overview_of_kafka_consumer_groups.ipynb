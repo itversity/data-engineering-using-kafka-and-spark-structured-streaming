{
 "cells": [
  {
   "cell_type": "markdown",
   "id": "f04c1d3f",
   "metadata": {},
   "source": [
    "## Overview of Kafka Consumer Groups\n",
    "\n",
    "Let us get an overview of Kafka Consumer Groups. It will help us in troubleshooting the issues at a later point in time.\n",
    "* Kafka topic separates the producers and consumers.\n",
    "* The relationship between producers and consumers is many to many. They do not directly communicate with each other, they instead use Kafka topic to communicate.\n",
    "* One or more producers can produce data to a topic.\n",
    "* One or more consumers can consume data from a topic.\n",
    "* We can create a consumer group with multiple consumers to consume data from a topic. There can be more than one consumer group to consume data from a topic.\n",
    "* Each consumer group will contain multiple processes to consume the data and offset will be managed at each consumer group level.\n",
    "* We can use `kafka-consumer-groups.sh` script to get the details related to consumer groups using CLI.\n",
    "\n",
    "```shell\n",
    "# A sample command to reset. Do not use it at this time.\n",
    "/opt/kafka/bin/kafka-consumer-groups.sh \\\n",
    "    --bootstrap-server w01.itversity.com:9092,w02.itversity.com:9092 \\\n",
    "    --group `whoami`-hdfs-sink \\\n",
    "    --reset-offsets \\\n",
    "    --to-earliest \\\n",
    "    --execute \\\n",
    "    --topic `whoami`_retail\n",
    "\n",
    "# Run this command to produce messages to the topic\n",
    "tail_logs.sh|/opt/kafka/bin/kafka-console-producer.sh \\\n",
    "    --bootstrap-server w01.itversity.com:9092,w02.itversity.com:9092 \\\n",
    "    --topic `whoami`_retail\n",
    "\n",
    "# Run this command to start a consumer associating with a group using CLI.\n",
    "/opt/kafka/bin/kafka-console-consumer.sh \\\n",
    "    --bootstrap-server w01.itversity.com:9092,w02.itversity.com:9092 \\\n",
    "    --topic `whoami`_retail \\\n",
    "    --group `whoami`_retail_group\n",
    "\n",
    "# List of consumer groups for a given topic\n",
    "/opt/kafka/bin/kafka-consumer-groups.sh \\\n",
    "    --bootstrap-server w01.itversity.com:9092,w02.itversity.com:9092 \\\n",
    "    --describe \\\n",
    "    --all-groups|grep -w `whoami`_retail\n",
    "```"
   ]
  },
  {
   "cell_type": "code",
   "execution_count": null,
   "id": "5dc83a39",
   "metadata": {},
   "outputs": [],
   "source": []
  }
 ],
 "metadata": {
  "kernelspec": {
   "display_name": "Python 3",
   "language": "python",
   "name": "python3"
  },
  "language_info": {
   "codemirror_mode": {
    "name": "ipython",
    "version": 3
   },
   "file_extension": ".py",
   "mimetype": "text/x-python",
   "name": "python",
   "nbconvert_exporter": "python",
   "pygments_lexer": "ipython3",
   "version": "3.6.12"
  }
 },
 "nbformat": 4,
 "nbformat_minor": 5
}
