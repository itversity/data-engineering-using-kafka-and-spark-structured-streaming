{
 "cells": [
  {
   "cell_type": "markdown",
   "id": "079698ae",
   "metadata": {},
   "source": [
    "## Convert Streaming Log Messages to JSON\n",
    "\n",
    "Let us apply required transformations to convert streaming log messages to JSON using regular expressions."
   ]
  },
  {
   "cell_type": "code",
   "execution_count": 1,
   "id": "83e217e0",
   "metadata": {},
   "outputs": [],
   "source": [
    "from pyspark.sql import SparkSession\n",
    "\n",
    "import getpass\n",
    "username = getpass.getuser()\n",
    "\n",
    "spark = SparkSession. \\\n",
    "    builder. \\\n",
    "    config('spark.ui.port', '0'). \\\n",
    "    config(\"spark.sql.warehouse.dir\", f\"/user/{username}/warehouse\"). \\\n",
    "    enableHiveSupport(). \\\n",
    "    appName(f'{username} | Python - Overview of Structured Streaming'). \\\n",
    "    master('yarn'). \\\n",
    "    getOrCreate()"
   ]
  },
  {
   "cell_type": "code",
   "execution_count": 2,
   "id": "7ccc90d8",
   "metadata": {},
   "outputs": [],
   "source": [
    "spark.conf.set('spark.sql.shuffle.partitions', '2')"
   ]
  },
  {
   "cell_type": "code",
   "execution_count": 3,
   "id": "369e3b9d",
   "metadata": {},
   "outputs": [],
   "source": [
    "import socket\n",
    "hostname = socket.gethostname()"
   ]
  },
  {
   "cell_type": "code",
   "execution_count": 4,
   "id": "3989f05c",
   "metadata": {},
   "outputs": [],
   "source": [
    "log_messages = spark. \\\n",
    "    readStream. \\\n",
    "    format(\"socket\"). \\\n",
    "    option(\"host\", hostname). \\\n",
    "    option(\"port\", 9000). \\\n",
    "    load()"
   ]
  },
  {
   "cell_type": "code",
   "execution_count": 5,
   "id": "8099ed71",
   "metadata": {},
   "outputs": [
    {
     "data": {
      "text/plain": [
       "True"
      ]
     },
     "execution_count": 5,
     "metadata": {},
     "output_type": "execute_result"
    }
   ],
   "source": [
    "log_messages.isStreaming"
   ]
  },
  {
   "cell_type": "code",
   "execution_count": 6,
   "id": "96b71385",
   "metadata": {},
   "outputs": [
    {
     "name": "stdout",
     "output_type": "stream",
     "text": [
      "root\n",
      " |-- value: string (nullable = true)\n",
      "\n"
     ]
    }
   ],
   "source": [
    "log_messages.printSchema()"
   ]
  },
  {
   "cell_type": "code",
   "execution_count": 7,
   "id": "5fc4cdc2",
   "metadata": {},
   "outputs": [],
   "source": [
    "from pyspark.sql.functions import regexp_extract"
   ]
  },
  {
   "cell_type": "code",
   "execution_count": 8,
   "id": "115e8b2b",
   "metadata": {},
   "outputs": [],
   "source": [
    "APACHE_ACCESS_LOG_PATTERN = '^(\\S+) (\\S+) (\\S+) \\[([\\w:/]+\\s[+\\-]\\d{4})\\] \"(.*?)\" (\\d+) (\\d+) (\\S+) \"(.*?)\"'"
   ]
  },
  {
   "cell_type": "code",
   "execution_count": 9,
   "id": "d98db34f",
   "metadata": {},
   "outputs": [],
   "source": [
    "log_messages_extracted = log_messages.withColumn('ipaddress', regexp_extract('value', APACHE_ACCESS_LOG_PATTERN, 1)). \\\n",
    "    withColumn('message_ts', regexp_extract('value', APACHE_ACCESS_LOG_PATTERN, 4)). \\\n",
    "    withColumn('message_endpoint', regexp_extract('value', APACHE_ACCESS_LOG_PATTERN, 5)). \\\n",
    "    drop('value')"
   ]
  },
  {
   "cell_type": "code",
   "execution_count": 10,
   "id": "2d609004",
   "metadata": {},
   "outputs": [],
   "source": [
    "from pyspark.sql.functions import to_json, struct"
   ]
  },
  {
   "cell_type": "code",
   "execution_count": 11,
   "id": "54aecd53",
   "metadata": {},
   "outputs": [],
   "source": [
    "log_messages_extracted_json = log_messages_extracted. \\\n",
    "    select(\n",
    "        to_json(\n",
    "            struct([log_messages_extracted[x] for x in log_messages_extracted.columns])\n",
    "        ).alias(\"value\")\n",
    "    )"
   ]
  },
  {
   "cell_type": "code",
   "execution_count": 12,
   "id": "b0fda95a",
   "metadata": {},
   "outputs": [
    {
     "data": {
      "text/plain": [
       "<pyspark.sql.streaming.StreamingQuery at 0x7f9407761e80>"
      ]
     },
     "execution_count": 12,
     "metadata": {},
     "output_type": "execute_result"
    }
   ],
   "source": [
    "log_messages_extracted_json. \\\n",
    "    writeStream. \\\n",
    "    format(\"memory\"). \\\n",
    "    queryName(\"log_messages\"). \\\n",
    "    start()"
   ]
  },
  {
   "cell_type": "code",
   "execution_count": 18,
   "id": "898f9316",
   "metadata": {},
   "outputs": [
    {
     "name": "stdout",
     "output_type": "stream",
     "text": [
      "+----------------------------------------------------------------------------------------------------------------------------------------------------+\n",
      "|value                                                                                                                                               |\n",
      "+----------------------------------------------------------------------------------------------------------------------------------------------------+\n",
      "|{\"ipaddress\":\"189.192.235.73\",\"message_ts\":\"06/Sep/2021:23:10:51 -0800\",\"message_endpoint\":\"GET /department/footwear/products HTTP/1.1\"}            |\n",
      "|{\"ipaddress\":\"157.139.197.15\",\"message_ts\":\"06/Sep/2021:23:10:53 -0800\",\"message_endpoint\":\"GET /departments HTTP/1.1\"}                             |\n",
      "|{\"ipaddress\":\"167.76.15.9\",\"message_ts\":\"06/Sep/2021:23:10:55 -0800\",\"message_endpoint\":\"GET /departments HTTP/1.1\"}                                |\n",
      "|{\"ipaddress\":\"46.230.139.195\",\"message_ts\":\"06/Sep/2021:23:10:57 -0800\",\"message_endpoint\":\"GET /department/golf/products HTTP/1.1\"}                |\n",
      "|{\"ipaddress\":\"63.36.13.162\",\"message_ts\":\"06/Sep/2021:23:10:59 -0800\",\"message_endpoint\":\"GET /departments HTTP/1.1\"}                               |\n",
      "|{\"ipaddress\":\"92.113.53.95\",\"message_ts\":\"06/Sep/2021:23:11:01 -0800\",\"message_endpoint\":\"GET /categories/indoor/outdoor%20games/products HTTP/1.1\"}|\n",
      "|{\"ipaddress\":\"77.198.218.183\",\"message_ts\":\"06/Sep/2021:23:11:03 -0800\",\"message_endpoint\":\"GET /departments HTTP/1.1\"}                             |\n",
      "|{\"ipaddress\":\"210.172.96.214\",\"message_ts\":\"06/Sep/2021:23:11:05 -0800\",\"message_endpoint\":\"GET /checkout HTTP/1.1\"}                                |\n",
      "|{\"ipaddress\":\"92.113.53.95\",\"message_ts\":\"06/Sep/2021:23:11:07 -0800\",\"message_endpoint\":\"GET /product/795 HTTP/1.1\"}                               |\n",
      "|{\"ipaddress\":\"190.52.115.168\",\"message_ts\":\"06/Sep/2021:23:11:09 -0800\",\"message_endpoint\":\"GET /product/428 HTTP/1.1\"}                             |\n",
      "|{\"ipaddress\":\"164.191.229.55\",\"message_ts\":\"06/Sep/2021:23:11:11 -0800\",\"message_endpoint\":\"GET /department/footwear/products HTTP/1.1\"}            |\n",
      "|{\"ipaddress\":\"138.71.102.117\",\"message_ts\":\"06/Sep/2021:23:11:13 -0800\",\"message_endpoint\":\"GET /departments HTTP/1.1\"}                             |\n",
      "|{\"ipaddress\":\"1.228.144.213\",\"message_ts\":\"06/Sep/2021:23:11:15 -0800\",\"message_endpoint\":\"GET /department/footwear/products HTTP/1.1\"}             |\n",
      "|{\"ipaddress\":\"68.138.123.3\",\"message_ts\":\"06/Sep/2021:23:11:17 -0800\",\"message_endpoint\":\"GET /departments HTTP/1.1\"}                               |\n",
      "|{\"ipaddress\":\"21.153.201.97\",\"message_ts\":\"06/Sep/2021:23:11:19 -0800\",\"message_endpoint\":\"GET /departments HTTP/1.1\"}                              |\n",
      "|{\"ipaddress\":\"150.121.97.167\",\"message_ts\":\"06/Sep/2021:23:11:21 -0800\",\"message_endpoint\":\"GET /department/footwear/products HTTP/1.1\"}            |\n",
      "|{\"ipaddress\":\"55.18.15.59\",\"message_ts\":\"06/Sep/2021:23:11:23 -0800\",\"message_endpoint\":\"GET /departments HTTP/1.1\"}                                |\n",
      "|{\"ipaddress\":\"143.114.29.154\",\"message_ts\":\"06/Sep/2021:23:11:25 -0800\",\"message_endpoint\":\"GET /departments HTTP/1.1\"}                             |\n",
      "|{\"ipaddress\":\"117.54.64.241\",\"message_ts\":\"06/Sep/2021:23:11:27 -0800\",\"message_endpoint\":\"GET /categories/cleats/products HTTP/1.1\"}               |\n",
      "|{\"ipaddress\":\"59.59.38.238\",\"message_ts\":\"06/Sep/2021:23:11:29 -0800\",\"message_endpoint\":\"GET /departments HTTP/1.1\"}                               |\n",
      "+----------------------------------------------------------------------------------------------------------------------------------------------------+\n",
      "only showing top 20 rows\n",
      "\n"
     ]
    }
   ],
   "source": [
    "spark.sql('SELECT * FROM log_messages').show(truncate=False)"
   ]
  },
  {
   "cell_type": "code",
   "execution_count": null,
   "id": "581e4e11",
   "metadata": {},
   "outputs": [],
   "source": [
    "spark.sql('SELECT count(1) FROM log_messages').show(truncate=False)"
   ]
  },
  {
   "cell_type": "code",
   "execution_count": null,
   "id": "91aaf52b",
   "metadata": {},
   "outputs": [],
   "source": []
  }
 ],
 "metadata": {
  "kernelspec": {
   "display_name": "Pyspark 3",
   "language": "python",
   "name": "pyspark3"
  },
  "language_info": {
   "codemirror_mode": {
    "name": "ipython",
    "version": 3
   },
   "file_extension": ".py",
   "mimetype": "text/x-python",
   "name": "python",
   "nbconvert_exporter": "python",
   "pygments_lexer": "ipython3",
   "version": "3.6.12"
  }
 },
 "nbformat": 4,
 "nbformat_minor": 5
}
