{
 "cells": [
  {
   "cell_type": "markdown",
   "id": "928e1875",
   "metadata": {},
   "source": [
    "## Reading Web Server Logs using Spark Structured Streaming\n",
    "\n",
    "Let us read web server logs using Spark Structured Streaming.\n",
    "* We need to ensure data is being pushed to netcat based web server.\n",
    "* We can read the data from the web server logs using `format` as socket.\n",
    "* For the demo of end to end pipeline, we are using `socket` as source. In production, we might either have Kafka topic or files or some other streaming tool as source.\n",
    "* After reading the data we will preview using `memory` as output mode."
   ]
  },
  {
   "cell_type": "code",
   "execution_count": 1,
   "id": "036317bb",
   "metadata": {},
   "outputs": [],
   "source": [
    "from pyspark.sql import SparkSession\n",
    "\n",
    "import getpass\n",
    "username = getpass.getuser()\n",
    "\n",
    "spark = SparkSession. \\\n",
    "    builder. \\\n",
    "    config('spark.ui.port', '0'). \\\n",
    "    config(\"spark.sql.warehouse.dir\", f\"/user/{username}/warehouse\"). \\\n",
    "    enableHiveSupport(). \\\n",
    "    appName(f'{username} | Python - Overview of Structured Streaming'). \\\n",
    "    master('yarn'). \\\n",
    "    getOrCreate()"
   ]
  },
  {
   "cell_type": "code",
   "execution_count": 2,
   "id": "d15cf080",
   "metadata": {},
   "outputs": [],
   "source": [
    "spark.conf.set('spark.sql.shuffle.partitions', '2')"
   ]
  },
  {
   "cell_type": "code",
   "execution_count": 3,
   "id": "ceb13d6c",
   "metadata": {},
   "outputs": [],
   "source": [
    "import socket\n",
    "hostname = socket.gethostname()"
   ]
  },
  {
   "cell_type": "code",
   "execution_count": 4,
   "id": "48e09bab",
   "metadata": {},
   "outputs": [],
   "source": [
    "log_messages = spark. \\\n",
    "    readStream. \\\n",
    "    format(\"socket\"). \\\n",
    "    option(\"host\", hostname). \\\n",
    "    option(\"port\", 9000). \\\n",
    "    load()"
   ]
  },
  {
   "cell_type": "code",
   "execution_count": 5,
   "id": "efe2bc7a",
   "metadata": {},
   "outputs": [
    {
     "data": {
      "text/plain": [
       "True"
      ]
     },
     "execution_count": 5,
     "metadata": {},
     "output_type": "execute_result"
    }
   ],
   "source": [
    "log_messages.isStreaming"
   ]
  },
  {
   "cell_type": "code",
   "execution_count": 6,
   "id": "a3756a51",
   "metadata": {},
   "outputs": [
    {
     "name": "stdout",
     "output_type": "stream",
     "text": [
      "root\n",
      " |-- value: string (nullable = true)\n",
      "\n"
     ]
    }
   ],
   "source": [
    "log_messages.printSchema()"
   ]
  },
  {
   "cell_type": "code",
   "execution_count": 7,
   "id": "c6e66bb3",
   "metadata": {},
   "outputs": [
    {
     "data": {
      "text/plain": [
       "<pyspark.sql.streaming.StreamingQuery at 0x7f22d882f518>"
      ]
     },
     "execution_count": 7,
     "metadata": {},
     "output_type": "execute_result"
    }
   ],
   "source": [
    "log_messages. \\\n",
    "    writeStream. \\\n",
    "    format(\"memory\"). \\\n",
    "    queryName(\"log_messages\"). \\\n",
    "    start()"
   ]
  },
  {
   "cell_type": "code",
   "execution_count": 10,
   "id": "b97b1333",
   "metadata": {},
   "outputs": [
    {
     "name": "stdout",
     "output_type": "stream",
     "text": [
      "+-----------------------------------------------------------------------------------------------------------------------------------------------------------------------------------------------------------------------------------------+\n",
      "|value                                                                                                                                                                                                                                    |\n",
      "+-----------------------------------------------------------------------------------------------------------------------------------------------------------------------------------------------------------------------------------------+\n",
      "|118.51.187.164 - - [06/Sep/2021:22:02:51 -0800] \"GET /department/fitness/products HTTP/1.1\" 200 1788 \"-\" \"Mozilla/5.0 (Windows NT 6.1; WOW64) AppleWebKit/537.36 (KHTML, like Gecko) Chrome/35.0.1916.153 Safari/537.36\"                 |\n",
      "|60.80.158.33 - - [06/Sep/2021:22:02:53 -0800] \"GET /departments HTTP/1.1\" 200 1584 \"-\" \"Mozilla/5.0 (Macintosh; Intel Mac OS X 10_9_3) AppleWebKit/537.36 (KHTML, like Gecko) Chrome/35.0.1916.153 Safari/537.36\"                        |\n",
      "|208.204.249.173 - - [06/Sep/2021:22:02:55 -0800] \"GET /department/golf/products HTTP/1.1\" 200 752 \"-\" \"Mozilla/5.0 (X11; Linux x86_64) AppleWebKit/537.36 (KHTML, like Gecko) Chrome/35.0.1916.153 Safari/537.36\"                        |\n",
      "|207.136.2.112 - - [06/Sep/2021:22:02:57 -0800] \"GET /department/apparel/products HTTP/1.1\" 200 2116 \"-\" \"Mozilla/5.0 (Windows NT 6.1; WOW64; rv:30.0) Gecko/20100101 Firefox/30.0\"                                                       |\n",
      "|195.172.229.52 - - [06/Sep/2021:22:02:59 -0800] \"GET /departments HTTP/1.1\" 200 246 \"-\" \"Mozilla/5.0 (Macintosh; Intel Mac OS X 10_9_4) AppleWebKit/537.36 (KHTML, like Gecko) Chrome/35.0.1916.153 Safari/537.36\"                       |\n",
      "|217.110.135.188 - - [06/Sep/2021:22:03:01 -0800] \"GET /departments HTTP/1.1\" 404 1176 \"-\" \"Mozilla/5.0 (Windows NT 6.3; WOW64) AppleWebKit/537.36 (KHTML, like Gecko) Chrome/35.0.1916.153 Safari/537.36\"                                |\n",
      "|179.239.3.19 - - [06/Sep/2021:22:03:03 -0800] \"GET /department/team%20sports/categories HTTP/1.1\" 200 1761 \"-\" \"Mozilla/5.0 (Macintosh; Intel Mac OS X 10_9_4) AppleWebKit/537.36 (KHTML, like Gecko) Chrome/36.0.1985.125 Safari/537.36\"|\n",
      "|136.140.245.173 - - [06/Sep/2021:22:03:05 -0800] \"GET /product/1142 HTTP/1.1\" 200 485 \"-\" \"Mozilla/5.0 (Windows NT 6.1; WOW64; rv:30.0) Gecko/20100101 Firefox/30.0\"                                                                     |\n",
      "|1.136.111.14 - - [06/Sep/2021:22:03:07 -0800] \"GET /departments HTTP/1.1\" 200 1100 \"-\" \"Mozilla/5.0 (Macintosh; Intel Mac OS X 10.9; rv:30.0) Gecko/20100101 Firefox/30.0\"                                                               |\n",
      "|45.189.99.108 - - [06/Sep/2021:22:03:09 -0800] \"GET /departments HTTP/1.1\" 200 2025 \"-\" \"Mozilla/5.0 (X11; Ubuntu; Linux x86_64; rv:30.0) Gecko/20100101 Firefox/30.0\"                                                                   |\n",
      "|125.20.56.238 - - [06/Sep/2021:22:03:11 -0800] \"GET /departments HTTP/1.1\" 200 1727 \"-\" \"Mozilla/5.0 (Windows NT 6.3; WOW64; rv:30.0) Gecko/20100101 Firefox/30.0\"                                                                       |\n",
      "|125.20.56.238 - - [06/Sep/2021:22:02:52 -0800] \"GET /department/outdoors/categories HTTP/1.1\" 200 1392 \"-\" \"Mozilla/5.0 (Macintosh; Intel Mac OS X 10_9_4) AppleWebKit/537.36 (KHTML, like Gecko) Chrome/35.0.1916.153 Safari/537.36\"    |\n",
      "|218.170.15.105 - - [06/Sep/2021:22:02:54 -0800] \"GET /department/fan%20shop/products HTTP/1.1\" 200 1012 \"-\" \"Mozilla/5.0 (Windows NT 6.1; WOW64; rv:30.0) Gecko/20100101 Firefox/30.0\"                                                   |\n",
      "|169.52.178.163 - - [06/Sep/2021:22:02:56 -0800] \"GET /product/859 HTTP/1.1\" 200 537 \"-\" \"Mozilla/5.0 (Windows NT 6.3; WOW64) AppleWebKit/537.36 (KHTML, like Gecko) Chrome/35.0.1916.153 Safari/537.36\"                                  |\n",
      "|217.110.135.188 - - [06/Sep/2021:22:02:58 -0800] \"GET /departments HTTP/1.1\" 200 1879 \"-\" \"Mozilla/5.0 (Windows NT 6.1; WOW64) AppleWebKit/537.36 (KHTML, like Gecko) Chrome/35.0.1916.153 Safari/537.36\"                                |\n",
      "|217.110.135.188 - - [06/Sep/2021:22:03:00 -0800] \"GET /departments HTTP/1.1\" 200 936 \"-\" \"Mozilla/5.0 (Windows NT 6.1; WOW64; rv:30.0) Gecko/20100101 Firefox/30.0\"                                                                      |\n",
      "|35.158.205.74 - - [06/Sep/2021:22:03:02 -0800] \"GET /categories/men%27s%20footwear/products HTTP/1.1\" 200 2148 \"-\" \"Mozilla/5.0 (Windows NT 6.1; WOW64) AppleWebKit/537.36 (KHTML, like Gecko) Chrome/35.0.1916.153 Safari/537.36\"       |\n",
      "|196.168.203.5 - - [06/Sep/2021:22:03:04 -0800] \"GET /product/973 HTTP/1.1\" 200 2177 \"-\" \"Mozilla/5.0 (Windows NT 6.1; WOW64; Trident/7.0; rv:11.0) like Gecko\"                                                                           |\n",
      "|59.8.25.16 - - [06/Sep/2021:22:03:06 -0800] \"GET /departments HTTP/1.1\" 200 591 \"-\" \"Mozilla/5.0 (X11; Ubuntu; Linux x86_64; rv:30.0) Gecko/20100101 Firefox/30.0\"                                                                       |\n",
      "|144.148.118.147 - - [06/Sep/2021:22:03:08 -0800] \"GET /department/team%20sports/categories HTTP/1.1\" 200 1298 \"-\" \"Mozilla/5.0 (Windows NT 6.1; WOW64) AppleWebKit/537.36 (KHTML, like Gecko) Chrome/36.0.1985.125 Safari/537.36\"        |\n",
      "+-----------------------------------------------------------------------------------------------------------------------------------------------------------------------------------------------------------------------------------------+\n",
      "only showing top 20 rows\n",
      "\n"
     ]
    }
   ],
   "source": [
    "spark.sql('SELECT * FROM log_messages').show(truncate=False)"
   ]
  },
  {
   "cell_type": "code",
   "execution_count": 9,
   "id": "771defec",
   "metadata": {},
   "outputs": [
    {
     "name": "stdout",
     "output_type": "stream",
     "text": [
      "+--------+\n",
      "|count(1)|\n",
      "+--------+\n",
      "|0       |\n",
      "+--------+\n",
      "\n"
     ]
    }
   ],
   "source": [
    "spark.sql('SELECT count(1) FROM log_messages').show(truncate=False)"
   ]
  },
  {
   "cell_type": "code",
   "execution_count": null,
   "id": "2e6e4ea1",
   "metadata": {},
   "outputs": [],
   "source": []
  }
 ],
 "metadata": {
  "kernelspec": {
   "display_name": "Pyspark 3",
   "language": "python",
   "name": "pyspark3"
  },
  "language_info": {
   "codemirror_mode": {
    "name": "ipython",
    "version": 3
   },
   "file_extension": ".py",
   "mimetype": "text/x-python",
   "name": "python",
   "nbconvert_exporter": "python",
   "pygments_lexer": "ipython3",
   "version": "3.6.12"
  }
 },
 "nbformat": 4,
 "nbformat_minor": 5
}
