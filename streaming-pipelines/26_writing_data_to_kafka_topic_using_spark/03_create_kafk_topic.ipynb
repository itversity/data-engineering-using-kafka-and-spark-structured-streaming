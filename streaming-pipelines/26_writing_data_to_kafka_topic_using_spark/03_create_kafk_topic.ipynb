{
 "cells": [
  {
   "cell_type": "markdown",
   "id": "3b400161",
   "metadata": {},
   "source": [
    "## Create Kafka Topic\n",
    "\n",
    "Let us go ahead and create Kafka topic for the purpose of writing to it. This Kafka topic will be used to write data using Spark Structured Streaming APIs."
   ]
  },
  {
   "cell_type": "code",
   "execution_count": null,
   "id": "20606eed",
   "metadata": {},
   "outputs": [],
   "source": [
    "!/opt/kafka/bin/kafka-topics.sh \\\n",
    "    --bootstrap-server w01.itversity.com:9092,w02.itversity.com:9092,w03.itversity.com:9092 \\\n",
    "    --delete \\\n",
    "    --topic ${USER}_retail_json"
   ]
  },
  {
   "cell_type": "code",
   "execution_count": null,
   "id": "1937d836",
   "metadata": {},
   "outputs": [],
   "source": [
    "!/opt/kafka/bin/kafka-topics.sh \\\n",
    "    --bootstrap-server w01.itversity.com:9092,w02.itversity.com:9092,w03.itversity.com:9092 \\\n",
    "    --create \\\n",
    "    --topic ${USER}_retail_json \\\n",
    "    --partitions 3 \\\n",
    "    --replication-factor 2"
   ]
  },
  {
   "cell_type": "code",
   "execution_count": null,
   "id": "95d717a7",
   "metadata": {},
   "outputs": [],
   "source": [
    "!/opt/kafka/bin/kafka-topics.sh \\\n",
    "    --bootstrap-server w01.itversity.com:9092,w02.itversity.com:9092,w03.itversity.com:9092 \\\n",
    "    --list \\\n",
    "    --topic ${USER}_retail_json"
   ]
  },
  {
   "cell_type": "code",
   "execution_count": null,
   "id": "52f64a40",
   "metadata": {},
   "outputs": [],
   "source": [
    "!/opt/kafka/bin/kafka-topics.sh \\\n",
    "    --bootstrap-server w01.itversity.com:9092,w02.itversity.com:9092,w03.itversity.com:9092 \\\n",
    "    --describe \\\n",
    "    --topic ${USER}_retail_json"
   ]
  }
 ],
 "metadata": {
  "kernelspec": {
   "display_name": "Pyspark 3",
   "language": "python",
   "name": "pyspark3"
  },
  "language_info": {
   "codemirror_mode": {
    "name": "ipython",
    "version": 3
   },
   "file_extension": ".py",
   "mimetype": "text/x-python",
   "name": "python",
   "nbconvert_exporter": "python",
   "pygments_lexer": "ipython3",
   "version": "3.6.12"
  }
 },
 "nbformat": 4,
 "nbformat_minor": 5
}
