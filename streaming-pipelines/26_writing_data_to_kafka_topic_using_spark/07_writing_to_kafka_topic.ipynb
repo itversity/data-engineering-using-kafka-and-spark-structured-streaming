{
 "cells": [
  {
   "cell_type": "markdown",
   "id": "ed99c4ac",
   "metadata": {},
   "source": [
    "## Writing to Kafka Topic\n",
    "\n",
    "Let us understand how to write messages to Kafka topic using Spark Structured Streaming APIs.\n",
    "* We can specify `kafka` as part of `format` to write data to Kafka topic.\n",
    "* It is mandatory to specify the checkpoint location, bootstrap servers as well as Kafka topic name."
   ]
  },
  {
   "cell_type": "code",
   "execution_count": null,
   "id": "87dc91eb",
   "metadata": {},
   "outputs": [],
   "source": [
    "from pyspark.sql import SparkSession\n",
    "\n",
    "import getpass\n",
    "username = getpass.getuser()\n",
    "\n",
    "spark = SparkSession. \\\n",
    "    builder. \\\n",
    "    config('spark.jars.packages', 'org.apache.spark:spark-sql-kafka-0-10_2.12:3.0.1'). \\\n",
    "    config('spark.ui.port', '0'). \\\n",
    "    config('spark.sql.warehouse.dir', f'/user/{username}/warehouse'). \\\n",
    "    enableHiveSupport(). \\\n",
    "    appName(f'{username} | Python - Kafka and Spark Integration'). \\\n",
    "    master('yarn'). \\\n",
    "    getOrCreate()"
   ]
  },
  {
   "cell_type": "code",
   "execution_count": null,
   "id": "38c299ef",
   "metadata": {},
   "outputs": [],
   "source": [
    "spark.conf.set('spark.sql.shuffle.partitions', '2')"
   ]
  },
  {
   "cell_type": "code",
   "execution_count": null,
   "id": "4f2a51bf",
   "metadata": {},
   "outputs": [],
   "source": [
    "import socket\n",
    "hostname = socket.gethostname()"
   ]
  },
  {
   "cell_type": "code",
   "execution_count": null,
   "id": "600ca692",
   "metadata": {},
   "outputs": [],
   "source": [
    "log_messages = spark. \\\n",
    "    readStream. \\\n",
    "    format(\"socket\"). \\\n",
    "    option(\"host\", hostname). \\\n",
    "    option(\"port\", 9000). \\\n",
    "    load()"
   ]
  },
  {
   "cell_type": "code",
   "execution_count": null,
   "id": "59ca4886",
   "metadata": {},
   "outputs": [],
   "source": [
    "log_messages.isStreaming"
   ]
  },
  {
   "cell_type": "code",
   "execution_count": null,
   "id": "773cca88",
   "metadata": {},
   "outputs": [],
   "source": [
    "log_messages.printSchema()"
   ]
  },
  {
   "cell_type": "code",
   "execution_count": null,
   "id": "28af8983",
   "metadata": {},
   "outputs": [],
   "source": [
    "from pyspark.sql.functions import regexp_extract"
   ]
  },
  {
   "cell_type": "code",
   "execution_count": null,
   "id": "746dcaa8",
   "metadata": {},
   "outputs": [],
   "source": [
    "APACHE_ACCESS_LOG_PATTERN = '^(\\S+) (\\S+) (\\S+) \\[([\\w:/]+\\s[+\\-]\\d{4})\\] \"(.*?)\" (\\d+) (\\d+) (\\S+) \"(.*?)\"'"
   ]
  },
  {
   "cell_type": "code",
   "execution_count": null,
   "id": "6f9b67f1",
   "metadata": {},
   "outputs": [],
   "source": [
    "log_messages_extracted = log_messages.withColumn('ipaddress', regexp_extract('value', APACHE_ACCESS_LOG_PATTERN, 1)). \\\n",
    "    withColumn('message_ts', regexp_extract('value', APACHE_ACCESS_LOG_PATTERN, 4)). \\\n",
    "    withColumn('message_endpoint', regexp_extract('value', APACHE_ACCESS_LOG_PATTERN, 5)). \\\n",
    "    drop('value')"
   ]
  },
  {
   "cell_type": "code",
   "execution_count": null,
   "id": "74dee1e4",
   "metadata": {},
   "outputs": [],
   "source": [
    "from pyspark.sql.functions import to_json, struct"
   ]
  },
  {
   "cell_type": "code",
   "execution_count": null,
   "id": "ca3b703e",
   "metadata": {},
   "outputs": [],
   "source": [
    "log_messages_extracted_json = log_messages_extracted. \\\n",
    "    select(\n",
    "        to_json(\n",
    "            struct([log_messages_extracted[x] for x in log_messages_extracted.columns])\n",
    "        ).alias(\"value\")\n",
    "    )"
   ]
  },
  {
   "cell_type": "code",
   "execution_count": null,
   "id": "26f8e80a",
   "metadata": {},
   "outputs": [],
   "source": [
    "log_messages_extracted_json. \\\n",
    "    writeStream. \\\n",
    "    format(\"kafka\"). \\\n",
    "    option('checkpointLocation', f'/user/{username}/kafka/retail_logs_json/gen_logs/checkpoint'). \\\n",
    "    option(\"kafka.bootstrap.servers\", \"w01.itversity.com:9092,w02.itversity.com:9092,w03.itversity.com:9092\"). \\\n",
    "    option(\"topic\", f\"{username}_retail_json\"). \\\n",
    "    trigger(processingTime='60 seconds'). \\\n",
    "    start()"
   ]
  },
  {
   "cell_type": "code",
   "execution_count": null,
   "id": "e06c16d2",
   "metadata": {},
   "outputs": [],
   "source": [
    "!hdfs dfs -ls /user/${USER}/kafka/retail_logs_json/gen_logs/checkpoint"
   ]
  },
  {
   "cell_type": "code",
   "execution_count": null,
   "id": "5145e5dd",
   "metadata": {},
   "outputs": [],
   "source": [
    "!hdfs dfs -ls /user/${USER}/kafka/retail_logs_json/gen_logs/checkpoint/offsets"
   ]
  },
  {
   "cell_type": "code",
   "execution_count": null,
   "id": "9bc016c0",
   "metadata": {},
   "outputs": [],
   "source": [
    "!hdfs dfs -cat /user/${USER}/kafka/retail_logs_json/gen_logs/checkpoint/metadata"
   ]
  }
 ],
 "metadata": {
  "kernelspec": {
   "display_name": "Pyspark 3",
   "language": "python",
   "name": "pyspark3"
  },
  "language_info": {
   "codemirror_mode": {
    "name": "ipython",
    "version": 3
   },
   "file_extension": ".py",
   "mimetype": "text/x-python",
   "name": "python",
   "nbconvert_exporter": "python",
   "pygments_lexer": "ipython3",
   "version": "3.6.12"
  }
 },
 "nbformat": 4,
 "nbformat_minor": 5
}
