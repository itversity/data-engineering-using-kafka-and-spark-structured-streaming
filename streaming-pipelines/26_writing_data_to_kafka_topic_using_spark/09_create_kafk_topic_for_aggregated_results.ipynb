{
 "cells": [
  {
   "cell_type": "markdown",
   "id": "60028f15",
   "metadata": {},
   "source": [
    "## Create Kafka Topic\n",
    "\n",
    "Let us go ahead and create Kafka topic for the purpose of writing to it. This Kafka topic will be used to write data using Spark Structured Streaming APIs."
   ]
  },
  {
   "cell_type": "code",
   "execution_count": 1,
   "id": "e9d109be",
   "metadata": {},
   "outputs": [
    {
     "name": "stdout",
     "output_type": "stream",
     "text": [
      "Error while executing topic command : Topic 'itversity_retail_agg' does not exist as expected\n",
      "[2021-09-14 22:14:44,484] ERROR java.lang.IllegalArgumentException: Topic 'itversity_retail_agg' does not exist as expected\n",
      "\tat kafka.admin.TopicCommand$.kafka$admin$TopicCommand$$ensureTopicExists(TopicCommand.scala:523)\n",
      "\tat kafka.admin.TopicCommand$AdminClientTopicService.deleteTopic(TopicCommand.scala:342)\n",
      "\tat kafka.admin.TopicCommand$.main(TopicCommand.scala:70)\n",
      "\tat kafka.admin.TopicCommand.main(TopicCommand.scala)\n",
      " (kafka.admin.TopicCommand$)\n"
     ]
    }
   ],
   "source": [
    "!/opt/kafka/bin/kafka-topics.sh \\\n",
    "    --bootstrap-server w01.itversity.com:9092,w02.itversity.com:9092,w03.itversity.com:9092 \\\n",
    "    --delete \\\n",
    "    --topic ${USER}_retail_agg"
   ]
  },
  {
   "cell_type": "code",
   "execution_count": 2,
   "id": "d78c7457",
   "metadata": {},
   "outputs": [
    {
     "name": "stdout",
     "output_type": "stream",
     "text": [
      "WARNING: Due to limitations in metric names, topics with a period ('.') or underscore ('_') could collide. To avoid issues it is best to use either, but not both.\n",
      "Created topic itversity_retail_agg.\n"
     ]
    }
   ],
   "source": [
    "!/opt/kafka/bin/kafka-topics.sh \\\n",
    "    --bootstrap-server w01.itversity.com:9092,w02.itversity.com:9092,w03.itversity.com:9092 \\\n",
    "    --create \\\n",
    "    --topic ${USER}_retail_agg \\\n",
    "    --partitions 3 \\\n",
    "    --replication-factor 2"
   ]
  },
  {
   "cell_type": "code",
   "execution_count": 3,
   "id": "58b6fcf6",
   "metadata": {},
   "outputs": [
    {
     "name": "stdout",
     "output_type": "stream",
     "text": [
      "itversity_retail_agg\n"
     ]
    }
   ],
   "source": [
    "!/opt/kafka/bin/kafka-topics.sh \\\n",
    "    --bootstrap-server w01.itversity.com:9092,w02.itversity.com:9092,w03.itversity.com:9092 \\\n",
    "    --list \\\n",
    "    --topic ${USER}_retail_agg"
   ]
  },
  {
   "cell_type": "code",
   "execution_count": 4,
   "id": "e3e4378e",
   "metadata": {},
   "outputs": [
    {
     "name": "stdout",
     "output_type": "stream",
     "text": [
      "Topic: itversity_retail_agg\tPartitionCount: 3\tReplicationFactor: 2\tConfigs: segment.bytes=1073741824\n",
      "\tTopic: itversity_retail_agg\tPartition: 0\tLeader: 3\tReplicas: 3,1\tIsr: 3,1\n",
      "\tTopic: itversity_retail_agg\tPartition: 1\tLeader: 1\tReplicas: 1,2\tIsr: 1,2\n",
      "\tTopic: itversity_retail_agg\tPartition: 2\tLeader: 2\tReplicas: 2,3\tIsr: 2,3\n"
     ]
    }
   ],
   "source": [
    "!/opt/kafka/bin/kafka-topics.sh \\\n",
    "    --bootstrap-server w01.itversity.com:9092,w02.itversity.com:9092,w03.itversity.com:9092 \\\n",
    "    --describe \\\n",
    "    --topic ${USER}_retail_agg"
   ]
  },
  {
   "cell_type": "code",
   "execution_count": null,
   "id": "b37709eb",
   "metadata": {},
   "outputs": [],
   "source": []
  }
 ],
 "metadata": {
  "kernelspec": {
   "display_name": "Pyspark 3",
   "language": "python",
   "name": "pyspark3"
  },
  "language_info": {
   "codemirror_mode": {
    "name": "ipython",
    "version": 3
   },
   "file_extension": ".py",
   "mimetype": "text/x-python",
   "name": "python",
   "nbconvert_exporter": "python",
   "pygments_lexer": "ipython3",
   "version": "3.6.12"
  }
 },
 "nbformat": 4,
 "nbformat_minor": 5
}
