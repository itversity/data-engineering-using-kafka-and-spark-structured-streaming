{
 "cells": [
  {
   "cell_type": "code",
   "execution_count": 1,
   "id": "c2d42aad",
   "metadata": {},
   "outputs": [],
   "source": [
    "from pyspark.sql import SparkSession\n",
    "\n",
    "import getpass\n",
    "username = getpass.getuser()\n",
    "\n",
    "spark = SparkSession. \\\n",
    "    builder. \\\n",
    "    config('spark.ui.port', '0'). \\\n",
    "    config(\"spark.sql.warehouse.dir\", f\"/user/{username}/warehouse\"). \\\n",
    "    enableHiveSupport(). \\\n",
    "    appName(f'{username} | Python - Overview of Structured Streaming'). \\\n",
    "    master('yarn'). \\\n",
    "    getOrCreate()"
   ]
  },
  {
   "cell_type": "code",
   "execution_count": 2,
   "id": "9338b124",
   "metadata": {},
   "outputs": [],
   "source": [
    "log_messages = '''152.66.31.153 - - [21/Aug/2021:22:57:29 -0800] \"GET /department/fitness/products HTTP/1.1\" 404 436 \"-\" \"Mozilla/5.0 (Windows NT 6.1; WOW64) AppleWebKit/537.36 (KHTML, like Gecko) Chrome/35.0.1916.153 Safari/537.36\"\n",
    "7.75.106.19 - - [21/Aug/2021:22:57:30 -0800] \"GET /add_to_cart/1228 HTTP/1.1\" 200 1938 \"-\" \"Mozilla/5.0 (Macintosh; Intel Mac OS X 10_9_3) AppleWebKit/537.76.4 (KHTML, like Gecko) Version/7.0.4 Safari/537.76.4\"\n",
    "178.182.201.250 - - [21/Aug/2021:22:57:31 -0800] \"GET /login HTTP/1.1\" 200 1028 \"-\" \"Mozilla/5.0 (Windows NT 6.3; WOW64; rv:30.0) Gecko/20100101 Firefox/30.0\"\n",
    "161.251.115.98 - - [21/Aug/2021:22:57:32 -0800] \"GET /departments HTTP/1.1\" 200 915 \"-\" \"Mozilla/5.0 (Windows NT 6.1; WOW64; Trident/7.0; rv:11.0) like Gecko\"\n",
    "32.162.64.231 - - [21/Aug/2021:22:57:33 -0800] \"GET /departments HTTP/1.1\" 200 1040 \"-\" \"Mozilla/5.0 (Macintosh; Intel Mac OS X 10.9; rv:30.0) Gecko/20100101 Firefox/30.0\"\n",
    "126.205.158.172 - - [21/Aug/2021:22:57:34 -0800] \"GET /checkout HTTP/1.1\" 200 1802 \"-\" \"Mozilla/5.0 (Macintosh; Intel Mac OS X 10.9; rv:30.0) Gecko/20100101 Firefox/30.0\"\n",
    "131.250.79.136 - - [21/Aug/2021:22:57:35 -0800] \"GET /support HTTP/1.1\" 200 1015 \"-\" \"Mozilla/5.0 (Macintosh; Intel Mac OS X 10_9_4) AppleWebKit/537.36 (KHTML, like Gecko) Chrome/35.0.1916.153 Safari/537.36\"\n",
    "11.186.99.191 - - [21/Aug/2021:22:57:36 -0800] \"GET /department/team%20sports/categories HTTP/1.1\" 200 2014 \"-\" \"Mozilla/5.0 (Windows NT 6.1; WOW64) AppleWebKit/537.36 (KHTML, like Gecko) Chrome/36.0.1985.125 Safari/537.36\"\n",
    "70.96.85.132 - - [21/Aug/2021:22:57:37 -0800] \"GET /checkout HTTP/1.1\" 200 648 \"-\" \"Mozilla/5.0 (Macintosh; Intel Mac OS X 10_9_3) AppleWebKit/537.76.4 (KHTML, like Gecko) Version/7.0.4 Safari/537.76.4\"\n",
    "52.27.254.176 - - [21/Aug/2021:22:57:38 -0800] \"GET /departments HTTP/1.1\" 200 268 \"-\" \"Mozilla/5.0 (Windows NT 6.1; WOW64) AppleWebKit/537.36 (KHTML, like Gecko) Chrome/35.0.1916.153 Safari/537.36\"'''"
   ]
  },
  {
   "cell_type": "code",
   "execution_count": 3,
   "id": "b8b5c081",
   "metadata": {},
   "outputs": [],
   "source": [
    "APACHE_ACCESS_LOG_PATTERN = '^(\\S+) (\\S+) (\\S+) \\[([\\w:/]+\\s[+\\-]\\d{4})\\] \"(.*?)\" (\\d+) (\\d+) (\\S+) \"(.*?)\"'"
   ]
  },
  {
   "cell_type": "code",
   "execution_count": 6,
   "id": "41deed89",
   "metadata": {},
   "outputs": [],
   "source": [
    "messages = list(map(lambda msg: (msg, ), log_messages.splitlines()))"
   ]
  },
  {
   "cell_type": "code",
   "execution_count": 7,
   "id": "29bade8f",
   "metadata": {},
   "outputs": [],
   "source": [
    "messages_df = spark. \\\n",
    "    createDataFrame(messages, schema='message STRING')"
   ]
  },
  {
   "cell_type": "code",
   "execution_count": 9,
   "id": "52e55482",
   "metadata": {},
   "outputs": [],
   "source": [
    "from pyspark.sql.functions import regexp_extract"
   ]
  },
  {
   "cell_type": "code",
   "execution_count": 10,
   "id": "7ce6922b",
   "metadata": {},
   "outputs": [
    {
     "name": "stdout",
     "output_type": "stream",
     "text": [
      "+---------------+--------------------------+\n",
      "|ipaddress      |message_ts                |\n",
      "+---------------+--------------------------+\n",
      "|152.66.31.153  |21/Aug/2021:22:57:29 -0800|\n",
      "|7.75.106.19    |21/Aug/2021:22:57:30 -0800|\n",
      "|178.182.201.250|21/Aug/2021:22:57:31 -0800|\n",
      "|161.251.115.98 |21/Aug/2021:22:57:32 -0800|\n",
      "|32.162.64.231  |21/Aug/2021:22:57:33 -0800|\n",
      "|126.205.158.172|21/Aug/2021:22:57:34 -0800|\n",
      "|131.250.79.136 |21/Aug/2021:22:57:35 -0800|\n",
      "|11.186.99.191  |21/Aug/2021:22:57:36 -0800|\n",
      "|70.96.85.132   |21/Aug/2021:22:57:37 -0800|\n",
      "|52.27.254.176  |21/Aug/2021:22:57:38 -0800|\n",
      "+---------------+--------------------------+\n",
      "\n"
     ]
    }
   ],
   "source": [
    "messages_df.withColumn('ipaddress', regexp_extract('message', APACHE_ACCESS_LOG_PATTERN, 1)). \\\n",
    "    withColumn('message_ts', regexp_extract('message', APACHE_ACCESS_LOG_PATTERN, 4)). \\\n",
    "    drop('message'). \\\n",
    "    show(truncate=False)"
   ]
  },
  {
   "cell_type": "code",
   "execution_count": 11,
   "id": "7c3bb759",
   "metadata": {},
   "outputs": [
    {
     "name": "stdout",
     "output_type": "stream",
     "text": [
      "+---------------+--------------------------+-------------------------------------------------+\n",
      "|ipaddress      |message_ts                |message_endpoint                                 |\n",
      "+---------------+--------------------------+-------------------------------------------------+\n",
      "|152.66.31.153  |21/Aug/2021:22:57:29 -0800|GET /department/fitness/products HTTP/1.1        |\n",
      "|7.75.106.19    |21/Aug/2021:22:57:30 -0800|GET /add_to_cart/1228 HTTP/1.1                   |\n",
      "|178.182.201.250|21/Aug/2021:22:57:31 -0800|GET /login HTTP/1.1                              |\n",
      "|161.251.115.98 |21/Aug/2021:22:57:32 -0800|GET /departments HTTP/1.1                        |\n",
      "|32.162.64.231  |21/Aug/2021:22:57:33 -0800|GET /departments HTTP/1.1                        |\n",
      "|126.205.158.172|21/Aug/2021:22:57:34 -0800|GET /checkout HTTP/1.1                           |\n",
      "|131.250.79.136 |21/Aug/2021:22:57:35 -0800|GET /support HTTP/1.1                            |\n",
      "|11.186.99.191  |21/Aug/2021:22:57:36 -0800|GET /department/team%20sports/categories HTTP/1.1|\n",
      "|70.96.85.132   |21/Aug/2021:22:57:37 -0800|GET /checkout HTTP/1.1                           |\n",
      "|52.27.254.176  |21/Aug/2021:22:57:38 -0800|GET /departments HTTP/1.1                        |\n",
      "+---------------+--------------------------+-------------------------------------------------+\n",
      "\n"
     ]
    }
   ],
   "source": [
    "messages_df.withColumn('ipaddress', regexp_extract('message', APACHE_ACCESS_LOG_PATTERN, 1)). \\\n",
    "    withColumn('message_ts', regexp_extract('message', APACHE_ACCESS_LOG_PATTERN, 4)). \\\n",
    "    withColumn('message_endpoint', regexp_extract('message', APACHE_ACCESS_LOG_PATTERN, 5)). \\\n",
    "    drop('message'). \\\n",
    "    show(truncate=False)"
   ]
  },
  {
   "cell_type": "code",
   "execution_count": 12,
   "id": "4f285821",
   "metadata": {},
   "outputs": [],
   "source": [
    "from pyspark.sql.functions import *"
   ]
  },
  {
   "cell_type": "code",
   "execution_count": 16,
   "id": "d88eb520",
   "metadata": {},
   "outputs": [
    {
     "data": {
      "text/plain": [
       "\u001b[0;31mSignature:\u001b[0m \u001b[0mto_json\u001b[0m\u001b[0;34m(\u001b[0m\u001b[0mcol\u001b[0m\u001b[0;34m,\u001b[0m \u001b[0moptions\u001b[0m\u001b[0;34m=\u001b[0m\u001b[0;34m{\u001b[0m\u001b[0;34m}\u001b[0m\u001b[0;34m)\u001b[0m\u001b[0;34m\u001b[0m\u001b[0;34m\u001b[0m\u001b[0m\n",
       "\u001b[0;31mDocstring:\u001b[0m\n",
       "Converts a column containing a :class:`StructType`, :class:`ArrayType` or a :class:`MapType`\n",
       "into a JSON string. Throws an exception, in the case of an unsupported type.\n",
       "\n",
       ":param col: name of column containing a struct, an array or a map.\n",
       ":param options: options to control converting. accepts the same options as the JSON datasource.\n",
       "                Additionally the function supports the `pretty` option which enables\n",
       "                pretty JSON generation.\n",
       "\n",
       ">>> from pyspark.sql import Row\n",
       ">>> from pyspark.sql.types import *\n",
       ">>> data = [(1, Row(name='Alice', age=2))]\n",
       ">>> df = spark.createDataFrame(data, (\"key\", \"value\"))\n",
       ">>> df.select(to_json(df.value).alias(\"json\")).collect()\n",
       "[Row(json='{\"age\":2,\"name\":\"Alice\"}')]\n",
       ">>> data = [(1, [Row(name='Alice', age=2), Row(name='Bob', age=3)])]\n",
       ">>> df = spark.createDataFrame(data, (\"key\", \"value\"))\n",
       ">>> df.select(to_json(df.value).alias(\"json\")).collect()\n",
       "[Row(json='[{\"age\":2,\"name\":\"Alice\"},{\"age\":3,\"name\":\"Bob\"}]')]\n",
       ">>> data = [(1, {\"name\": \"Alice\"})]\n",
       ">>> df = spark.createDataFrame(data, (\"key\", \"value\"))\n",
       ">>> df.select(to_json(df.value).alias(\"json\")).collect()\n",
       "[Row(json='{\"name\":\"Alice\"}')]\n",
       ">>> data = [(1, [{\"name\": \"Alice\"}, {\"name\": \"Bob\"}])]\n",
       ">>> df = spark.createDataFrame(data, (\"key\", \"value\"))\n",
       ">>> df.select(to_json(df.value).alias(\"json\")).collect()\n",
       "[Row(json='[{\"name\":\"Alice\"},{\"name\":\"Bob\"}]')]\n",
       ">>> data = [(1, [\"Alice\", \"Bob\"])]\n",
       ">>> df = spark.createDataFrame(data, (\"key\", \"value\"))\n",
       ">>> df.select(to_json(df.value).alias(\"json\")).collect()\n",
       "[Row(json='[\"Alice\",\"Bob\"]')]\n",
       "\n",
       ".. versionadded:: 2.1\n",
       "\u001b[0;31mFile:\u001b[0m      /opt/spark-3.0.1-bin-hadoop3.2/python/pyspark/sql/functions.py\n",
       "\u001b[0;31mType:\u001b[0m      function\n"
      ]
     },
     "metadata": {},
     "output_type": "display_data"
    }
   ],
   "source": [
    "to_json?"
   ]
  },
  {
   "cell_type": "code",
   "execution_count": 14,
   "id": "b227361d",
   "metadata": {},
   "outputs": [],
   "source": [
    "messages_extracted = messages_df.withColumn('ipaddress', regexp_extract('message', APACHE_ACCESS_LOG_PATTERN, 1)). \\\n",
    "    withColumn('message_ts', regexp_extract('message', APACHE_ACCESS_LOG_PATTERN, 4)). \\\n",
    "    withColumn('message_endpoint', regexp_extract('message', APACHE_ACCESS_LOG_PATTERN, 5)). \\\n",
    "    drop('message')"
   ]
  },
  {
   "cell_type": "code",
   "execution_count": 27,
   "id": "b1242a96",
   "metadata": {},
   "outputs": [
    {
     "name": "stdout",
     "output_type": "stream",
     "text": [
      "+----------------------------------------------------------------------------------------------------------------------------------------------+\n",
      "|value                                                                                                                                         |\n",
      "+----------------------------------------------------------------------------------------------------------------------------------------------+\n",
      "|{\"ipaddress\":\"152.66.31.153\",\"message_ts\":\"21/Aug/2021:22:57:29 -0800\",\"message_endpoint\":\"GET /department/fitness/products HTTP/1.1\"}        |\n",
      "|{\"ipaddress\":\"7.75.106.19\",\"message_ts\":\"21/Aug/2021:22:57:30 -0800\",\"message_endpoint\":\"GET /add_to_cart/1228 HTTP/1.1\"}                     |\n",
      "|{\"ipaddress\":\"178.182.201.250\",\"message_ts\":\"21/Aug/2021:22:57:31 -0800\",\"message_endpoint\":\"GET /login HTTP/1.1\"}                            |\n",
      "|{\"ipaddress\":\"161.251.115.98\",\"message_ts\":\"21/Aug/2021:22:57:32 -0800\",\"message_endpoint\":\"GET /departments HTTP/1.1\"}                       |\n",
      "|{\"ipaddress\":\"32.162.64.231\",\"message_ts\":\"21/Aug/2021:22:57:33 -0800\",\"message_endpoint\":\"GET /departments HTTP/1.1\"}                        |\n",
      "|{\"ipaddress\":\"126.205.158.172\",\"message_ts\":\"21/Aug/2021:22:57:34 -0800\",\"message_endpoint\":\"GET /checkout HTTP/1.1\"}                         |\n",
      "|{\"ipaddress\":\"131.250.79.136\",\"message_ts\":\"21/Aug/2021:22:57:35 -0800\",\"message_endpoint\":\"GET /support HTTP/1.1\"}                           |\n",
      "|{\"ipaddress\":\"11.186.99.191\",\"message_ts\":\"21/Aug/2021:22:57:36 -0800\",\"message_endpoint\":\"GET /department/team%20sports/categories HTTP/1.1\"}|\n",
      "|{\"ipaddress\":\"70.96.85.132\",\"message_ts\":\"21/Aug/2021:22:57:37 -0800\",\"message_endpoint\":\"GET /checkout HTTP/1.1\"}                            |\n",
      "|{\"ipaddress\":\"52.27.254.176\",\"message_ts\":\"21/Aug/2021:22:57:38 -0800\",\"message_endpoint\":\"GET /departments HTTP/1.1\"}                        |\n",
      "+----------------------------------------------------------------------------------------------------------------------------------------------+\n",
      "\n"
     ]
    }
   ],
   "source": [
    "messages_extracted.select(to_json(struct([messages_extracted[x] for x in messages_extracted.columns])).alias(\"value\")).show(truncate=False)"
   ]
  },
  {
   "cell_type": "code",
   "execution_count": 17,
   "id": "0f470016",
   "metadata": {},
   "outputs": [],
   "source": [
    "from pyspark.sql import Row"
   ]
  },
  {
   "cell_type": "code",
   "execution_count": 18,
   "id": "88fd4f98",
   "metadata": {},
   "outputs": [],
   "source": [
    "from pyspark.sql.types import *"
   ]
  },
  {
   "cell_type": "code",
   "execution_count": 20,
   "id": "13e35ede",
   "metadata": {},
   "outputs": [],
   "source": [
    "data = [(1, Row(name='Alice', age=2))]"
   ]
  },
  {
   "cell_type": "code",
   "execution_count": 21,
   "id": "f26cbaa9",
   "metadata": {},
   "outputs": [],
   "source": [
    "df = spark.createDataFrame(data, (\"key\", \"value\"))"
   ]
  },
  {
   "cell_type": "code",
   "execution_count": 23,
   "id": "c7b07a0b",
   "metadata": {},
   "outputs": [
    {
     "name": "stdout",
     "output_type": "stream",
     "text": [
      "root\n",
      " |-- key: long (nullable = true)\n",
      " |-- value: struct (nullable = true)\n",
      " |    |-- name: string (nullable = true)\n",
      " |    |-- age: long (nullable = true)\n",
      "\n"
     ]
    }
   ],
   "source": [
    "df.printSchema()"
   ]
  },
  {
   "cell_type": "code",
   "execution_count": 22,
   "id": "7f01683f",
   "metadata": {},
   "outputs": [
    {
     "data": {
      "text/plain": [
       "[Row(json='{\"name\":\"Alice\",\"age\":2}')]"
      ]
     },
     "execution_count": 22,
     "metadata": {},
     "output_type": "execute_result"
    }
   ],
   "source": [
    "df.select(to_json(df.value).alias(\"json\")).collect()"
   ]
  },
  {
   "cell_type": "code",
   "execution_count": null,
   "id": "5977fdee",
   "metadata": {},
   "outputs": [],
   "source": []
  }
 ],
 "metadata": {
  "kernelspec": {
   "display_name": "Pyspark 3",
   "language": "python",
   "name": "pyspark3"
  },
  "language_info": {
   "codemirror_mode": {
    "name": "ipython",
    "version": 3
   },
   "file_extension": ".py",
   "mimetype": "text/x-python",
   "name": "python",
   "nbconvert_exporter": "python",
   "pygments_lexer": "ipython3",
   "version": "3.6.12"
  }
 },
 "nbformat": 4,
 "nbformat_minor": 5
}
