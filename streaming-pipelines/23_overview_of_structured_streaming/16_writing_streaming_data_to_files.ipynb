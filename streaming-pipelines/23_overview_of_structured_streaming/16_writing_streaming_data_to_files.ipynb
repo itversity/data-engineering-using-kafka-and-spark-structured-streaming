{
 "cells": [
  {
   "cell_type": "markdown",
   "id": "ef36d118",
   "metadata": {},
   "source": [
    "## Writing Streaming Data to Files\n",
    "\n",
    "As we have successfully read the data and see it is being processed using `writeStream.format('console')`, now it is time for us to understand how the data can be written to files.\n",
    "\n",
    "Here are the steps we need to follow to write the data to files:\n",
    "1. Ensure the logs are being redirected to Netcat Webserver\n",
    "2. Read the data using `spark.readStream` with `format('socket')`\n",
    "3. Use `writeStream.format` with appropriate options related to the file format. We will be using `writeStream.format('csv')` and hence we need to specify checkpoint and target location.\n",
    "\n",
    "```python\n",
    "socketDF. \\\n",
    "    writeStream. \\\n",
    "    format(\"csv\"). \\\n",
    "    option(\"checkpointLocation\", \"/user/itversity/retail_logs/gen_logs/checkpoint\"). \\\n",
    "    option(\"path\", \"/user/itversity/retail_logs/gen_logs/data\"). \\\n",
    "    start()\n",
    "```\n",
    "\n",
    "4. Validate both the checkpoint location as well as data location in which files are being copied to."
   ]
  },
  {
   "cell_type": "code",
   "execution_count": null,
   "id": "eaec18bb",
   "metadata": {},
   "outputs": [],
   "source": [
    "from pyspark.sql import SparkSession\n",
    "\n",
    "import getpass\n",
    "username = getpass.getuser()\n",
    "\n",
    "spark = SparkSession. \\\n",
    "    builder. \\\n",
    "    config('spark.ui.port', '0'). \\\n",
    "    config(\"spark.sql.warehouse.dir\", f\"/user/{username}/warehouse\"). \\\n",
    "    enableHiveSupport(). \\\n",
    "    appName(f'{username} | Python - Overview of Structured Streaming'). \\\n",
    "    master('yarn'). \\\n",
    "    getOrCreate()"
   ]
  },
  {
   "cell_type": "code",
   "execution_count": null,
   "id": "79fab168",
   "metadata": {},
   "outputs": [],
   "source": [
    "import socket\n",
    "hostname = socket.gethostname()"
   ]
  },
  {
   "cell_type": "code",
   "execution_count": null,
   "id": "05b2b2fe",
   "metadata": {},
   "outputs": [],
   "source": [
    "log_messages = spark. \\\n",
    "    readStream. \\\n",
    "    format('socket'). \\\n",
    "    option('host', hostname). \\\n",
    "    option('port', 9000). \\\n",
    "    load()"
   ]
  },
  {
   "cell_type": "code",
   "execution_count": null,
   "id": "17303602",
   "metadata": {},
   "outputs": [],
   "source": [
    "import getpass\n",
    "username = getpass.getuser()"
   ]
  },
  {
   "cell_type": "code",
   "execution_count": null,
   "id": "e7c410fb",
   "metadata": {},
   "outputs": [],
   "source": [
    "log_messages. \\\n",
    "    writeStream. \\\n",
    "    format('csv'). \\\n",
    "    option('path', f'/user/{username}/retail_logs/gen_logs/data'). \\\n",
    "    start()"
   ]
  },
  {
   "cell_type": "code",
   "execution_count": null,
   "id": "64350d94",
   "metadata": {},
   "outputs": [],
   "source": [
    "log_messages. \\\n",
    "    writeStream. \\\n",
    "    format('csv'). \\\n",
    "    option(\"checkpointLocation\", f'/user/{username}/retail_logs/gen_logs/checkpoint'). \\\n",
    "    option('path', f'/user/{username}/retail_logs/gen_logs/data'). \\\n",
    "    trigger(processingTime='5 seconds'). \\\n",
    "    start()"
   ]
  },
  {
   "cell_type": "code",
   "execution_count": null,
   "id": "1c7a58f5",
   "metadata": {},
   "outputs": [],
   "source": [
    "!hdfs dfs -ls /user/${USER}/retail_logs/gen_logs/data"
   ]
  },
  {
   "cell_type": "code",
   "execution_count": null,
   "id": "110db820",
   "metadata": {},
   "outputs": [],
   "source": [
    "spark.stop()"
   ]
  },
  {
   "cell_type": "code",
   "execution_count": null,
   "id": "0c5d2324",
   "metadata": {},
   "outputs": [],
   "source": []
  }
 ],
 "metadata": {
  "kernelspec": {
   "display_name": "Pyspark 2",
   "language": "python",
   "name": "pyspark2"
  },
  "language_info": {
   "codemirror_mode": {
    "name": "ipython",
    "version": 3
   },
   "file_extension": ".py",
   "mimetype": "text/x-python",
   "name": "python",
   "nbconvert_exporter": "python",
   "pygments_lexer": "ipython3",
   "version": "3.6.12"
  }
 },
 "nbformat": 4,
 "nbformat_minor": 5
}
