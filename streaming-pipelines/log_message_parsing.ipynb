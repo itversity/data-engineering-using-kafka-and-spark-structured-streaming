{
 "cells": [
  {
   "cell_type": "code",
   "execution_count": 3,
   "id": "3b8a6e88",
   "metadata": {},
   "outputs": [],
   "source": [
    "APACHE_ACCESS_LOG_PATTERN = '^(\\S+) (\\S+) (\\S+) \\[([\\w:/]+\\s[+\\-]\\d{4})\\] \"(.*?)\" (\\d+) (\\d+) (\\S+) \"(.*?)\"'"
   ]
  },
  {
   "cell_type": "code",
   "execution_count": 4,
   "id": "5f636b70",
   "metadata": {},
   "outputs": [],
   "source": [
    "log_messages = '''152.66.31.153 - - [21/Aug/2021:22:57:29 -0800] \"GET /department/fitness/products HTTP/1.1\" 404 436 \"-\" \"Mozilla/5.0 (Windows NT 6.1; WOW64) AppleWebKit/537.36 (KHTML, like Gecko) Chrome/35.0.1916.153 Safari/537.36\"\n",
    "7.75.106.19 - - [21/Aug/2021:22:57:30 -0800] \"GET /add_to_cart/1228 HTTP/1.1\" 200 1938 \"-\" \"Mozilla/5.0 (Macintosh; Intel Mac OS X 10_9_3) AppleWebKit/537.76.4 (KHTML, like Gecko) Version/7.0.4 Safari/537.76.4\"\n",
    "178.182.201.250 - - [21/Aug/2021:22:57:31 -0800] \"GET /login HTTP/1.1\" 200 1028 \"-\" \"Mozilla/5.0 (Windows NT 6.3; WOW64; rv:30.0) Gecko/20100101 Firefox/30.0\"\n",
    "161.251.115.98 - - [21/Aug/2021:22:57:32 -0800] \"GET /departments HTTP/1.1\" 200 915 \"-\" \"Mozilla/5.0 (Windows NT 6.1; WOW64; Trident/7.0; rv:11.0) like Gecko\"\n",
    "32.162.64.231 - - [21/Aug/2021:22:57:33 -0800] \"GET /departments HTTP/1.1\" 200 1040 \"-\" \"Mozilla/5.0 (Macintosh; Intel Mac OS X 10.9; rv:30.0) Gecko/20100101 Firefox/30.0\"\n",
    "126.205.158.172 - - [21/Aug/2021:22:57:34 -0800] \"GET /checkout HTTP/1.1\" 200 1802 \"-\" \"Mozilla/5.0 (Macintosh; Intel Mac OS X 10.9; rv:30.0) Gecko/20100101 Firefox/30.0\"\n",
    "131.250.79.136 - - [21/Aug/2021:22:57:35 -0800] \"GET /support HTTP/1.1\" 200 1015 \"-\" \"Mozilla/5.0 (Macintosh; Intel Mac OS X 10_9_4) AppleWebKit/537.36 (KHTML, like Gecko) Chrome/35.0.1916.153 Safari/537.36\"\n",
    "11.186.99.191 - - [21/Aug/2021:22:57:36 -0800] \"GET /department/team%20sports/categories HTTP/1.1\" 200 2014 \"-\" \"Mozilla/5.0 (Windows NT 6.1; WOW64) AppleWebKit/537.36 (KHTML, like Gecko) Chrome/36.0.1985.125 Safari/537.36\"\n",
    "70.96.85.132 - - [21/Aug/2021:22:57:37 -0800] \"GET /checkout HTTP/1.1\" 200 648 \"-\" \"Mozilla/5.0 (Macintosh; Intel Mac OS X 10_9_3) AppleWebKit/537.76.4 (KHTML, like Gecko) Version/7.0.4 Safari/537.76.4\"\n",
    "52.27.254.176 - - [21/Aug/2021:22:57:38 -0800] \"GET /departments HTTP/1.1\" 200 268 \"-\" \"Mozilla/5.0 (Windows NT 6.1; WOW64) AppleWebKit/537.36 (KHTML, like Gecko) Chrome/35.0.1916.153 Safari/537.36\"'''"
   ]
  },
  {
   "cell_type": "code",
   "execution_count": 5,
   "id": "67f3fcf8",
   "metadata": {},
   "outputs": [],
   "source": [
    "messages = log_messages.splitlines()"
   ]
  },
  {
   "cell_type": "code",
   "execution_count": 6,
   "id": "839c0904",
   "metadata": {},
   "outputs": [],
   "source": [
    "import re"
   ]
  },
  {
   "cell_type": "code",
   "execution_count": 7,
   "id": "c4a0dcee",
   "metadata": {},
   "outputs": [],
   "source": [
    "match = re.search(APACHE_ACCESS_LOG_PATTERN, messages[0])"
   ]
  },
  {
   "cell_type": "code",
   "execution_count": 8,
   "id": "ab058e45",
   "metadata": {},
   "outputs": [
    {
     "data": {
      "text/plain": [
       "'152.66.31.153 - - [21/Aug/2021:22:57:29 -0800] \"GET /department/fitness/products HTTP/1.1\" 404 436 \"-\" \"Mozilla/5.0 (Windows NT 6.1; WOW64) AppleWebKit/537.36 (KHTML, like Gecko) Chrome/35.0.1916.153 Safari/537.36\"'"
      ]
     },
     "execution_count": 8,
     "metadata": {},
     "output_type": "execute_result"
    }
   ],
   "source": [
    "match.group()"
   ]
  },
  {
   "cell_type": "code",
   "execution_count": 9,
   "id": "6a7023a2",
   "metadata": {},
   "outputs": [
    {
     "data": {
      "text/plain": [
       "'21/Aug/2021:22:57:29 -0800'"
      ]
     },
     "execution_count": 9,
     "metadata": {},
     "output_type": "execute_result"
    }
   ],
   "source": [
    "match.group(4)"
   ]
  },
  {
   "cell_type": "code",
   "execution_count": 10,
   "id": "2eb66c52",
   "metadata": {},
   "outputs": [
    {
     "data": {
      "text/plain": [
       "'GET /department/fitness/products HTTP/1.1'"
      ]
     },
     "execution_count": 10,
     "metadata": {},
     "output_type": "execute_result"
    }
   ],
   "source": [
    "match.group(5)"
   ]
  },
  {
   "cell_type": "code",
   "execution_count": 11,
   "id": "4ad5ff1c",
   "metadata": {},
   "outputs": [
    {
     "data": {
      "text/plain": [
       "'404'"
      ]
     },
     "execution_count": 11,
     "metadata": {},
     "output_type": "execute_result"
    }
   ],
   "source": [
    "match.group(6)"
   ]
  },
  {
   "cell_type": "code",
   "execution_count": 12,
   "id": "25f9b345",
   "metadata": {},
   "outputs": [
    {
     "data": {
      "text/plain": [
       "'436'"
      ]
     },
     "execution_count": 12,
     "metadata": {},
     "output_type": "execute_result"
    }
   ],
   "source": [
    "match.group(7)"
   ]
  },
  {
   "cell_type": "code",
   "execution_count": 13,
   "id": "e0ba8eb1",
   "metadata": {},
   "outputs": [
    {
     "data": {
      "text/plain": [
       "'\"-\"'"
      ]
     },
     "execution_count": 13,
     "metadata": {},
     "output_type": "execute_result"
    }
   ],
   "source": [
    "match.group(8)"
   ]
  },
  {
   "cell_type": "code",
   "execution_count": 14,
   "id": "25684678",
   "metadata": {},
   "outputs": [
    {
     "data": {
      "text/plain": [
       "'Mozilla/5.0 (Windows NT 6.1; WOW64) AppleWebKit/537.36 (KHTML, like Gecko) Chrome/35.0.1916.153 Safari/537.36'"
      ]
     },
     "execution_count": 14,
     "metadata": {},
     "output_type": "execute_result"
    }
   ],
   "source": [
    "match.group(9)"
   ]
  },
  {
   "cell_type": "code",
   "execution_count": 15,
   "id": "126078d9",
   "metadata": {},
   "outputs": [
    {
     "data": {
      "text/plain": [
       "('152.66.31.153',\n",
       " '-',\n",
       " '-',\n",
       " '21/Aug/2021:22:57:29 -0800',\n",
       " 'GET /department/fitness/products HTTP/1.1',\n",
       " '404',\n",
       " '436',\n",
       " '\"-\"',\n",
       " 'Mozilla/5.0 (Windows NT 6.1; WOW64) AppleWebKit/537.36 (KHTML, like Gecko) Chrome/35.0.1916.153 Safari/537.36')"
      ]
     },
     "execution_count": 15,
     "metadata": {},
     "output_type": "execute_result"
    }
   ],
   "source": [
    "match.groups()"
   ]
  },
  {
   "cell_type": "code",
   "execution_count": 1,
   "id": "8164eac1",
   "metadata": {},
   "outputs": [],
   "source": [
    "from pyspark.sql import SparkSession\n",
    "\n",
    "import getpass\n",
    "username = getpass.getuser()\n",
    "\n",
    "spark = SparkSession. \\\n",
    "    builder. \\\n",
    "    config('spark.ui.port', '0'). \\\n",
    "    config('spark.sql.warehouse.dir', f'/user/{username}/warehouse'). \\\n",
    "    enableHiveSupport(). \\\n",
    "    appName(f'{username} | Log Message Parsing'). \\\n",
    "    master('yarn'). \\\n",
    "    getOrCreate()"
   ]
  },
  {
   "cell_type": "code",
   "execution_count": 17,
   "id": "30885e8f",
   "metadata": {},
   "outputs": [],
   "source": [
    "df = spark. \\\n",
    "    createDataFrame(list(map(lambda msg: (msg, ), messages)), schema='message STRING')"
   ]
  },
  {
   "cell_type": "code",
   "execution_count": 18,
   "id": "32ea054b",
   "metadata": {},
   "outputs": [
    {
     "name": "stdout",
     "output_type": "stream",
     "text": [
      "root\n",
      " |-- message: string (nullable = true)\n",
      "\n"
     ]
    }
   ],
   "source": [
    "df.printSchema()"
   ]
  },
  {
   "cell_type": "code",
   "execution_count": 19,
   "id": "3dda8dc9",
   "metadata": {},
   "outputs": [
    {
     "name": "stdout",
     "output_type": "stream",
     "text": [
      "+--------------------+\n",
      "|             message|\n",
      "+--------------------+\n",
      "|152.66.31.153 - -...|\n",
      "|7.75.106.19 - - [...|\n",
      "|178.182.201.250 -...|\n",
      "|161.251.115.98 - ...|\n",
      "|32.162.64.231 - -...|\n",
      "|126.205.158.172 -...|\n",
      "|131.250.79.136 - ...|\n",
      "|11.186.99.191 - -...|\n",
      "|70.96.85.132 - - ...|\n",
      "|52.27.254.176 - -...|\n",
      "+--------------------+\n",
      "\n"
     ]
    }
   ],
   "source": [
    "df.show()"
   ]
  },
  {
   "cell_type": "code",
   "execution_count": 20,
   "id": "32611da3",
   "metadata": {},
   "outputs": [],
   "source": [
    "from pyspark.sql.functions import *"
   ]
  },
  {
   "cell_type": "code",
   "execution_count": 21,
   "id": "60c92d12",
   "metadata": {},
   "outputs": [
    {
     "data": {
      "text/plain": [
       "\u001b[0;31mSignature:\u001b[0m \u001b[0mregexp_extract\u001b[0m\u001b[0;34m(\u001b[0m\u001b[0mstr\u001b[0m\u001b[0;34m,\u001b[0m \u001b[0mpattern\u001b[0m\u001b[0;34m,\u001b[0m \u001b[0midx\u001b[0m\u001b[0;34m)\u001b[0m\u001b[0;34m\u001b[0m\u001b[0;34m\u001b[0m\u001b[0m\n",
       "\u001b[0;31mDocstring:\u001b[0m\n",
       "Extract a specific group matched by a Java regex, from the specified string column.\n",
       "If the regex did not match, or the specified group did not match, an empty string is returned.\n",
       "\n",
       ">>> df = spark.createDataFrame([('100-200',)], ['str'])\n",
       ">>> df.select(regexp_extract('str', r'(\\d+)-(\\d+)', 1).alias('d')).collect()\n",
       "[Row(d='100')]\n",
       ">>> df = spark.createDataFrame([('foo',)], ['str'])\n",
       ">>> df.select(regexp_extract('str', r'(\\d+)', 1).alias('d')).collect()\n",
       "[Row(d='')]\n",
       ">>> df = spark.createDataFrame([('aaaac',)], ['str'])\n",
       ">>> df.select(regexp_extract('str', '(a+)(b)?(c)', 2).alias('d')).collect()\n",
       "[Row(d='')]\n",
       "\n",
       ".. versionadded:: 1.5\n",
       "\u001b[0;31mFile:\u001b[0m      /opt/spark-3.0.1-bin-hadoop3.2/python/pyspark/sql/functions.py\n",
       "\u001b[0;31mType:\u001b[0m      function\n"
      ]
     },
     "metadata": {},
     "output_type": "display_data"
    }
   ],
   "source": [
    "regexp_extract?"
   ]
  },
  {
   "cell_type": "code",
   "execution_count": 26,
   "id": "a6bf8058",
   "metadata": {},
   "outputs": [
    {
     "name": "stdout",
     "output_type": "stream",
     "text": [
      "+---------------+--------------------------+\n",
      "|ipaddress      |message_ts                |\n",
      "+---------------+--------------------------+\n",
      "|152.66.31.153  |21/Aug/2021:22:57:29 -0800|\n",
      "|7.75.106.19    |21/Aug/2021:22:57:30 -0800|\n",
      "|178.182.201.250|21/Aug/2021:22:57:31 -0800|\n",
      "|161.251.115.98 |21/Aug/2021:22:57:32 -0800|\n",
      "|32.162.64.231  |21/Aug/2021:22:57:33 -0800|\n",
      "|126.205.158.172|21/Aug/2021:22:57:34 -0800|\n",
      "|131.250.79.136 |21/Aug/2021:22:57:35 -0800|\n",
      "|11.186.99.191  |21/Aug/2021:22:57:36 -0800|\n",
      "|70.96.85.132   |21/Aug/2021:22:57:37 -0800|\n",
      "|52.27.254.176  |21/Aug/2021:22:57:38 -0800|\n",
      "+---------------+--------------------------+\n",
      "\n"
     ]
    }
   ],
   "source": [
    "df.withColumn('ipaddress', regexp_extract('message', APACHE_ACCESS_LOG_PATTERN, 1)). \\\n",
    "    withColumn('message_ts', regexp_extract('message', APACHE_ACCESS_LOG_PATTERN, 4)). \\\n",
    "    drop('message'). \\\n",
    "    show(truncate=False)"
   ]
  },
  {
   "cell_type": "code",
   "execution_count": 27,
   "id": "06eee445",
   "metadata": {},
   "outputs": [
    {
     "name": "stdout",
     "output_type": "stream",
     "text": [
      "+---------------+--------------------------+-------------------------------------------------+\n",
      "|ipaddress      |message_ts                |message_endpoint                                 |\n",
      "+---------------+--------------------------+-------------------------------------------------+\n",
      "|152.66.31.153  |21/Aug/2021:22:57:29 -0800|GET /department/fitness/products HTTP/1.1        |\n",
      "|7.75.106.19    |21/Aug/2021:22:57:30 -0800|GET /add_to_cart/1228 HTTP/1.1                   |\n",
      "|178.182.201.250|21/Aug/2021:22:57:31 -0800|GET /login HTTP/1.1                              |\n",
      "|161.251.115.98 |21/Aug/2021:22:57:32 -0800|GET /departments HTTP/1.1                        |\n",
      "|32.162.64.231  |21/Aug/2021:22:57:33 -0800|GET /departments HTTP/1.1                        |\n",
      "|126.205.158.172|21/Aug/2021:22:57:34 -0800|GET /checkout HTTP/1.1                           |\n",
      "|131.250.79.136 |21/Aug/2021:22:57:35 -0800|GET /support HTTP/1.1                            |\n",
      "|11.186.99.191  |21/Aug/2021:22:57:36 -0800|GET /department/team%20sports/categories HTTP/1.1|\n",
      "|70.96.85.132   |21/Aug/2021:22:57:37 -0800|GET /checkout HTTP/1.1                           |\n",
      "|52.27.254.176  |21/Aug/2021:22:57:38 -0800|GET /departments HTTP/1.1                        |\n",
      "+---------------+--------------------------+-------------------------------------------------+\n",
      "\n"
     ]
    }
   ],
   "source": [
    "df.withColumn('ipaddress', regexp_extract('message', APACHE_ACCESS_LOG_PATTERN, 1)). \\\n",
    "    withColumn('message_ts', regexp_extract('message', APACHE_ACCESS_LOG_PATTERN, 4)). \\\n",
    "    withColumn('message_endpoint', regexp_extract('message', APACHE_ACCESS_LOG_PATTERN, 5)). \\\n",
    "    drop('message'). \\\n",
    "    show(truncate=False)"
   ]
  },
  {
   "cell_type": "code",
   "execution_count": null,
   "id": "8cf59f25",
   "metadata": {},
   "outputs": [],
   "source": []
  }
 ],
 "metadata": {
  "kernelspec": {
   "display_name": "Pyspark 3",
   "language": "python",
   "name": "pyspark3"
  },
  "language_info": {
   "codemirror_mode": {
    "name": "ipython",
    "version": 3
   },
   "file_extension": ".py",
   "mimetype": "text/x-python",
   "name": "python",
   "nbconvert_exporter": "python",
   "pygments_lexer": "ipython3",
   "version": "3.6.12"
  }
 },
 "nbformat": 4,
 "nbformat_minor": 5
}
