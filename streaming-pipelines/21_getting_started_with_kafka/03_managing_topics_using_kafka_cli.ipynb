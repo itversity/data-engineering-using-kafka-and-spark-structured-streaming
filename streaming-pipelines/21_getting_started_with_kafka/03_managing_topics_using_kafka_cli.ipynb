{
 "cells": [
  {
   "cell_type": "markdown",
   "metadata": {},
   "source": [
    "## Managing Topics using Kafka CLI\n",
    "\n",
    "As part of this topic let us see how we can manage Kafka topics using command line.\n",
    "* List the topics in the Kafka cluster\n",
    "* Drop the topic, if it exists\n",
    "* Create the topic using login user prefix and then retail. We will create topic with partitions as 3 and replication factor as 2.\n",
    "* List the topics to verify whether it is successfully created or not.\n",
    "* Describe the topic to get the details related to partitions of the topic.\n",
    "\n",
    "We need to pass zookeeper details to manage topics using `kafka-topics.sh` command."
   ]
  },
  {
   "cell_type": "markdown",
   "metadata": {},
   "source": [
    "Here are the commands to validate these on single node cluster for your reference.\n",
    "\n",
    "* List the topics in the Kafka cluster"
   ]
  },
  {
   "cell_type": "code",
   "execution_count": null,
   "metadata": {},
   "outputs": [],
   "source": [
    "%%sh\n",
    "\n",
    "/opt/kafka/bin/kafka-topics.sh --list \\\n",
    "    --zookeeper localhost:2181"
   ]
  },
  {
   "cell_type": "markdown",
   "metadata": {},
   "source": [
    "* Drop the topic, if it exists"
   ]
  },
  {
   "cell_type": "code",
   "execution_count": null,
   "metadata": {},
   "outputs": [],
   "source": [
    "%%sh\n",
    "\n",
    "/opt/kafka/bin/kafka-topics.sh --delete \\\n",
    "    --zookeeper locahost:2181 \\\n",
    "    --topic `whoami`_retail"
   ]
  },
  {
   "cell_type": "markdown",
   "metadata": {},
   "source": [
    "* Create the topic using login user prefix and then retail. We will create topic with partitions as 3 and replication factor as 2."
   ]
  },
  {
   "cell_type": "code",
   "execution_count": null,
   "metadata": {},
   "outputs": [],
   "source": [
    "%%sh\n",
    "\n",
    "/opt/kafka/bin/kafka-topics.sh --create \\\n",
    "    --zookeeper localhost:2181 \\\n",
    "    --replication-factor 1 \\\n",
    "    --partitions 3 \\\n",
    "    --topic `whoami`_retail"
   ]
  },
  {
   "cell_type": "markdown",
   "metadata": {},
   "source": [
    "* List the topics to verify whether it is successfully created or not."
   ]
  },
  {
   "cell_type": "code",
   "execution_count": null,
   "metadata": {},
   "outputs": [],
   "source": [
    "%%sh\n",
    "\n",
    "/opt/kafka/bin/kafka-topics.sh --list \\\n",
    "    --zookeeper localhost:2181 \\\n",
    "    --topic `whoami`_retail"
   ]
  },
  {
   "cell_type": "markdown",
   "metadata": {},
   "source": [
    "* Describe the topic to get the details related to partitions of the topic."
   ]
  },
  {
   "cell_type": "code",
   "execution_count": null,
   "metadata": {},
   "outputs": [],
   "source": [
    "%%sh\n",
    "\n",
    "/opt/kafka/bin/kafka-topics.sh --describe \\\n",
    "    --zookeeper localhost:2181 \\\n",
    "    --topic `whoami`_retail"
   ]
  },
  {
   "cell_type": "markdown",
   "metadata": {},
   "source": [
    "Here are the commands to validate these on multi node cluster for your reference.\n",
    "\n",
    "* List the topics in the Kafka cluster"
   ]
  },
  {
   "cell_type": "code",
   "execution_count": 1,
   "metadata": {},
   "outputs": [
    {
     "name": "stdout",
     "output_type": "stream",
     "text": [
      "Kafka-Testing\n",
      "Wire_other_consumer\n",
      "Wires_consumer\n",
      "Wires_consumer_error\n",
      "Wires_producer\n",
      "__consumer_offsets\n",
      "akintraining\n",
      "all_orders\n",
      "amar_topic\n",
      "amar_topic1\n",
      "centos_demo\n",
      "closed_orders\n",
      "completed_orders\n",
      "customers\n",
      "customers-new\n",
      "demo_topic\n",
      "dg_retail\n",
      "first_topic\n",
      "first_topics\n",
      "github_repos_topic.gh_database.gh_repos\n",
      "github_test_topic\n",
      "github_test_topic2\n",
      "github_test_topic2.gh_database.gh_repos\n",
      "github_test_topic21\n",
      "github_test_topic3\n",
      "github_test_topic3.gh_database.gh_repos\n",
      "itversity_retail\n",
      "jzn_topic\n",
      "kafakam\n",
      "kafdemo\n",
      "kafka1\n",
      "kafka2\n",
      "kafka392_demo\n",
      "kafka_topics\n",
      "kafka_topics-test\n",
      "kafkaam\n",
      "kafkademodg\n",
      "kafkademopk\n",
      "kafkadfg\n",
      "kafkadg\n",
      "kafkadg1\n",
      "kafkahv\n",
      "kafkam\n",
      "kafkatest\n",
      "kafkatest_sr\n",
      "kafkatopic\n",
      "kafkaty\n",
      "kafkhv\n",
      "logstokafka\n",
      "logstokakfa\n",
      "meetuprsvptopic\n",
      "meetuprsvptopic1\n",
      "meetuprsvtopic\n",
      "meetuprsvtopic1\n",
      "mnc_list1\n",
      "mnc_list3\n",
      "mnc_topic1\n",
      "mnc_topic2\n",
      "mnc_topic3\n",
      "msdtest\n",
      "my-topic\n",
      "myTopic\n",
      "myTopic2\n",
      "mynewtopic\n",
      "mynewtopic2\n",
      "mytopic\n",
      "mytopic2\n",
      "new_topiic\n",
      "newtop\n",
      "newtop--from-beginning\n",
      "newtopic\n",
      "nikhila_input\n",
      "ournewtopic\n",
      "prashant\n",
      "qazwsx\n",
      "retail\n",
      "retail_gen_logs\n",
      "retail_multi\n",
      "retail_multi_part\n",
      "sample\n",
      "sbanerjee1\n",
      "session_kafka\n",
      "siva_kafka_1\n",
      "skmulfactor\n",
      "sktest\n",
      "sktopic2partition\n",
      "surojit_first_topic\n",
      "tdsktest\n",
      "test\n",
      "test-01\n",
      "test123\n",
      "test1_topic\n",
      "test_sikha\n",
      "test_single_part\n",
      "threading_new\n",
      "topic_for_gpkafka\n",
      "tst_topic_practice_01\n",
      "vcustomers\n",
      "vcustomers-new\n",
      "vibstopic\n"
     ]
    }
   ],
   "source": [
    "%%sh\n",
    "\n",
    "/opt/kafka/bin/kafka-topics.sh --list \\\n",
    "    --zookeeper m01.itversity.com:2181,m02.itversity.com:2181,w01.itversity.com:2181"
   ]
  },
  {
   "cell_type": "markdown",
   "metadata": {},
   "source": [
    "* Drop the topic, if it exists"
   ]
  },
  {
   "cell_type": "code",
   "execution_count": 2,
   "metadata": {},
   "outputs": [
    {
     "name": "stdout",
     "output_type": "stream",
     "text": [
      "itversity\n"
     ]
    }
   ],
   "source": [
    "!whoami"
   ]
  },
  {
   "cell_type": "code",
   "execution_count": 3,
   "metadata": {},
   "outputs": [
    {
     "name": "stdout",
     "output_type": "stream",
     "text": [
      "Topic itversity_retail is marked for deletion.\n",
      "Note: This will have no impact if delete.topic.enable is not set to true.\n"
     ]
    }
   ],
   "source": [
    "%%sh\n",
    "\n",
    "/opt/kafka/bin/kafka-topics.sh --delete \\\n",
    "    --zookeeper m01.itversity.com:2181,m02.itversity.com:2181,w01.itversity.com:2181 \\\n",
    "    --topic `whoami`_retail"
   ]
  },
  {
   "cell_type": "markdown",
   "metadata": {},
   "source": [
    "* Create the topic using login user prefix and then retail. We will create topic with partitions as 3 and replication factor as 2."
   ]
  },
  {
   "cell_type": "code",
   "execution_count": 4,
   "metadata": {},
   "outputs": [
    {
     "name": "stdout",
     "output_type": "stream",
     "text": [
      "WARNING: Due to limitations in metric names, topics with a period ('.') or underscore ('_') could collide. To avoid issues it is best to use either, but not both.\n",
      "Created topic itversity_retail.\n"
     ]
    }
   ],
   "source": [
    "%%sh\n",
    "\n",
    "/opt/kafka/bin/kafka-topics.sh --create \\\n",
    "    --zookeeper m01.itversity.com:2181,m02.itversity.com:2181,w01.itversity.com:2181 \\\n",
    "    --replication-factor 2 \\\n",
    "    --partitions 3 \\\n",
    "    --topic `whoami`_retail"
   ]
  },
  {
   "cell_type": "markdown",
   "metadata": {},
   "source": [
    "* List the topics to verify whether it is successfully created or not."
   ]
  },
  {
   "cell_type": "code",
   "execution_count": 5,
   "metadata": {},
   "outputs": [
    {
     "name": "stdout",
     "output_type": "stream",
     "text": [
      "itversity_retail\n"
     ]
    }
   ],
   "source": [
    "%%sh\n",
    "\n",
    "/opt/kafka/bin/kafka-topics.sh --list \\\n",
    "    --zookeeper m01.itversity.com:2181,m02.itversity.com:2181,w01.itversity.com:2181 \\\n",
    "    --topic `whoami`_retail"
   ]
  },
  {
   "cell_type": "markdown",
   "metadata": {},
   "source": [
    "* Describe the topic to get the details related to partitions of the topic."
   ]
  },
  {
   "cell_type": "code",
   "execution_count": 6,
   "metadata": {},
   "outputs": [
    {
     "name": "stdout",
     "output_type": "stream",
     "text": [
      "Topic: itversity_retail\tPartitionCount: 3\tReplicationFactor: 2\tConfigs: \n",
      "\tTopic: itversity_retail\tPartition: 0\tLeader: 1\tReplicas: 1,2\tIsr: 1,2\n",
      "\tTopic: itversity_retail\tPartition: 1\tLeader: 2\tReplicas: 2,3\tIsr: 2,3\n",
      "\tTopic: itversity_retail\tPartition: 2\tLeader: 3\tReplicas: 3,1\tIsr: 3,1\n"
     ]
    }
   ],
   "source": [
    "%%sh\n",
    "\n",
    "/opt/kafka/bin/kafka-topics.sh --describe \\\n",
    "    --zookeeper m01.itversity.com:2181,m02.itversity.com:2181,w01.itversity.com:2181 \\\n",
    "    --topic `whoami`_retail"
   ]
  },
  {
   "cell_type": "code",
   "execution_count": null,
   "metadata": {},
   "outputs": [],
   "source": []
  }
 ],
 "metadata": {
  "kernelspec": {
   "display_name": "Pyspark 2",
   "language": "python",
   "name": "pyspark2"
  },
  "language_info": {
   "codemirror_mode": {
    "name": "ipython",
    "version": 3
   },
   "file_extension": ".py",
   "mimetype": "text/x-python",
   "name": "python",
   "nbconvert_exporter": "python",
   "pygments_lexer": "ipython3",
   "version": "3.6.12"
  }
 },
 "nbformat": 4,
 "nbformat_minor": 4
}
