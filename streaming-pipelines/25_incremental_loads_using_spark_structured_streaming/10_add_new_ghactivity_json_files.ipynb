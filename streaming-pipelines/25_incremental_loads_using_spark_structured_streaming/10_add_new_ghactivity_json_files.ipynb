{
 "cells": [
  {
   "cell_type": "markdown",
   "metadata": {
    "application/vnd.databricks.v1+cell": {
     "inputWidgets": {},
     "nuid": "8d05356d-b391-4200-997f-8d2a06b270dd",
     "showTitle": false,
     "title": ""
    }
   },
   "source": [
    "## Add New GHActivity JSON files\n",
    "\n",
    "Let us add new files to the source and validate.\n",
    "* Create the function.\n",
    "* Run the function for all 24 hours for 2021-01-14."
   ]
  },
  {
   "cell_type": "code",
   "execution_count": null,
   "metadata": {
    "application/vnd.databricks.v1+cell": {
     "inputWidgets": {},
     "nuid": "d76e11f6-0eed-4262-811f-4aa3e5df5a61",
     "showTitle": false,
     "title": ""
    }
   },
   "outputs": [],
   "source": [
    "import requests\n",
    "import subprocess\n",
    "import getpass\n",
    "\n",
    "def upload_gharchive_files_to_hdfs(file_name):\n",
    "    year = file_name[:4]\n",
    "    month = file_name[5:7]\n",
    "    dayofmonth = file_name[8:10]\n",
    "    username = getpass.getuser()\n",
    "    res = requests.get(f'https://data.gharchive.org/{file_name}')\n",
    "    target_local_folder = f'/home/{username}/data/ghactivity/year={year}/month={month}/dayofmonth={dayofmonth}'\n",
    "    subprocess.check_call(f'mkdir -p {target_local_folder}', shell=True)\n",
    "    target_file = open(f'{target_local_folder}/{file_name}', 'wb')\n",
    "    upload_res = target_file.write(res.content)\n",
    "    target_file.close()\n",
    "    target_hdfs_folder = f'/user/{username}/itv-github/streaming/landing/ghactivity/year={year}/month={month}/dayofmonth={dayofmonth}'\n",
    "    subprocess.check_call(f'hdfs dfs -mkdir -p {target_hdfs_folder}', shell=True)\n",
    "    subprocess.check_call(f'hdfs dfs -put {target_local_folder}/{file_name} {target_hdfs_folder}', shell=True)"
   ]
  },
  {
   "cell_type": "code",
   "execution_count": null,
   "metadata": {
    "application/vnd.databricks.v1+cell": {
     "inputWidgets": {},
     "nuid": "78df4284-8b27-4b18-8b0c-4b8ff5625c09",
     "showTitle": false,
     "title": ""
    }
   },
   "outputs": [],
   "source": [
    "for hour in range(0, 24):\n",
    "    print(f'Processing file 2021-01-14-{hour}.json.gz')\n",
    "    upload_gharchive_files_to_hdfs(f'2021-01-14-{hour}.json.gz')"
   ]
  },
  {
   "cell_type": "code",
   "execution_count": null,
   "metadata": {},
   "outputs": [],
   "source": []
  }
 ],
 "metadata": {
  "application/vnd.databricks.v1+notebook": {
   "dashboards": [],
   "language": "python",
   "notebookMetadata": {
    "pythonIndentUnit": 2
   },
   "notebookName": "09 Add New GHActivity JSON files",
   "notebookOrigID": 3881066461251993,
   "widgets": {}
  },
  "kernelspec": {
   "display_name": "Pyspark 3",
   "language": "python",
   "name": "pyspark3"
  },
  "language_info": {
   "codemirror_mode": {
    "name": "ipython",
    "version": 3
   },
   "file_extension": ".py",
   "mimetype": "text/x-python",
   "name": "python",
   "nbconvert_exporter": "python",
   "pygments_lexer": "ipython3",
   "version": "3.6.12"
  }
 },
 "nbformat": 4,
 "nbformat_minor": 4
}
