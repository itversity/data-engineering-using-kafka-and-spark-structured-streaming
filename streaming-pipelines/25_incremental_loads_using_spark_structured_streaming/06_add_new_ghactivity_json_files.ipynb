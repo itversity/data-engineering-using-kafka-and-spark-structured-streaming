{
 "cells": [
  {
   "cell_type": "markdown",
   "metadata": {
    "application/vnd.databricks.v1+cell": {
     "inputWidgets": {},
     "nuid": "a720ab5e-6939-468a-ab98-3138078cb392",
     "showTitle": false,
     "title": ""
    }
   },
   "source": [
    "## Add New GHActivity JSON files\n",
    "\n",
    "Let us add new files to the source and validate.\n",
    "* Create the function.\n",
    "* Run the function for rest of the hours for 2021-01-13."
   ]
  },
  {
   "cell_type": "code",
   "execution_count": 1,
   "metadata": {
    "application/vnd.databricks.v1+cell": {
     "inputWidgets": {},
     "nuid": "bb0c34ae-4cb4-46b2-a33c-1d90ea7b495d",
     "showTitle": false,
     "title": ""
    }
   },
   "outputs": [],
   "source": [
    "import requests\n",
    "import subprocess\n",
    "import getpass\n",
    "\n",
    "def upload_gharchive_files_to_hdfs(file_name):\n",
    "    year = file_name[:4]\n",
    "    month = file_name[5:7]\n",
    "    dayofmonth = file_name[8:10]\n",
    "    username = getpass.getuser()\n",
    "    res = requests.get(f'https://data.gharchive.org/{file_name}')\n",
    "    target_local_folder = f'/home/{username}/data/ghactivity/year={year}/month={month}/dayofmonth={dayofmonth}'\n",
    "    subprocess.check_call(f'mkdir -p {target_local_folder}', shell=True)\n",
    "    target_file = open(f'{target_local_folder}/{file_name}', 'wb')\n",
    "    upload_res = target_file.write(res.content)\n",
    "    target_file.close()\n",
    "    target_hdfs_folder = f'/user/{username}/itv-github/streaming/landing/ghactivity/year={year}/month={month}/dayofmonth={dayofmonth}'\n",
    "    subprocess.check_call(f'hdfs dfs -mkdir -p {target_hdfs_folder}', shell=True)\n",
    "    subprocess.check_call(f'hdfs dfs -put {target_local_folder}/{file_name} {target_hdfs_folder}', shell=True)"
   ]
  },
  {
   "cell_type": "code",
   "execution_count": 2,
   "metadata": {
    "application/vnd.databricks.v1+cell": {
     "inputWidgets": {},
     "nuid": "4a9ddf16-5585-4fb4-bb7f-8a7d646faf8d",
     "showTitle": false,
     "title": ""
    }
   },
   "outputs": [
    {
     "name": "stdout",
     "output_type": "stream",
     "text": [
      "Processing file 2021-01-13-1.json.gz\n",
      "Processing file 2021-01-13-2.json.gz\n",
      "Processing file 2021-01-13-3.json.gz\n",
      "Processing file 2021-01-13-4.json.gz\n",
      "Processing file 2021-01-13-5.json.gz\n",
      "Processing file 2021-01-13-6.json.gz\n",
      "Processing file 2021-01-13-7.json.gz\n",
      "Processing file 2021-01-13-8.json.gz\n",
      "Processing file 2021-01-13-9.json.gz\n",
      "Processing file 2021-01-13-10.json.gz\n",
      "Processing file 2021-01-13-11.json.gz\n",
      "Processing file 2021-01-13-12.json.gz\n",
      "Processing file 2021-01-13-13.json.gz\n",
      "Processing file 2021-01-13-14.json.gz\n",
      "Processing file 2021-01-13-15.json.gz\n",
      "Processing file 2021-01-13-16.json.gz\n",
      "Processing file 2021-01-13-17.json.gz\n",
      "Processing file 2021-01-13-18.json.gz\n",
      "Processing file 2021-01-13-19.json.gz\n",
      "Processing file 2021-01-13-20.json.gz\n",
      "Processing file 2021-01-13-21.json.gz\n",
      "Processing file 2021-01-13-22.json.gz\n",
      "Processing file 2021-01-13-23.json.gz\n"
     ]
    }
   ],
   "source": [
    "for hour in range(1, 24):\n",
    "    print(f'Processing file 2021-01-13-{hour}.json.gz')\n",
    "    upload_gharchive_files_to_hdfs(f'2021-01-13-{hour}.json.gz')"
   ]
  },
  {
   "cell_type": "code",
   "execution_count": 3,
   "metadata": {},
   "outputs": [
    {
     "name": "stdout",
     "output_type": "stream",
     "text": [
      "Found 24 items\n",
      "-rw-r--r--   3 itversity itversity   47825349 2021-09-14 14:20 /user/itversity/itv-github/streaming/landing/ghactivity/year=2021/month=01/dayofmonth=13/2021-01-13-0.json.gz\n",
      "-rw-r--r--   3 itversity itversity   45560145 2021-09-14 14:20 /user/itversity/itv-github/streaming/landing/ghactivity/year=2021/month=01/dayofmonth=13/2021-01-13-1.json.gz\n",
      "-rw-r--r--   3 itversity itversity   44467455 2021-09-14 14:20 /user/itversity/itv-github/streaming/landing/ghactivity/year=2021/month=01/dayofmonth=13/2021-01-13-2.json.gz\n",
      "-rw-r--r--   3 itversity itversity   42314408 2021-09-14 14:20 /user/itversity/itv-github/streaming/landing/ghactivity/year=2021/month=01/dayofmonth=13/2021-01-13-3.json.gz\n",
      "-rw-r--r--   3 itversity itversity   43620238 2021-09-14 14:21 /user/itversity/itv-github/streaming/landing/ghactivity/year=2021/month=01/dayofmonth=13/2021-01-13-4.json.gz\n",
      "-rw-r--r--   3 itversity itversity   52649777 2021-09-14 14:21 /user/itversity/itv-github/streaming/landing/ghactivity/year=2021/month=01/dayofmonth=13/2021-01-13-5.json.gz\n",
      "-rw-r--r--   3 itversity itversity   58672363 2021-09-14 14:21 /user/itversity/itv-github/streaming/landing/ghactivity/year=2021/month=01/dayofmonth=13/2021-01-13-6.json.gz\n",
      "-rw-r--r--   3 itversity itversity   62523629 2021-09-14 14:21 /user/itversity/itv-github/streaming/landing/ghactivity/year=2021/month=01/dayofmonth=13/2021-01-13-7.json.gz\n",
      "-rw-r--r--   3 itversity itversity   66034142 2021-09-14 14:21 /user/itversity/itv-github/streaming/landing/ghactivity/year=2021/month=01/dayofmonth=13/2021-01-13-8.json.gz\n",
      "-rw-r--r--   3 itversity itversity   74438431 2021-09-14 14:21 /user/itversity/itv-github/streaming/landing/ghactivity/year=2021/month=01/dayofmonth=13/2021-01-13-9.json.gz\n",
      "-rw-r--r--   3 itversity itversity   71293671 2021-09-14 14:22 /user/itversity/itv-github/streaming/landing/ghactivity/year=2021/month=01/dayofmonth=13/2021-01-13-10.json.gz\n",
      "-rw-r--r--   3 itversity itversity   65318647 2021-09-14 14:22 /user/itversity/itv-github/streaming/landing/ghactivity/year=2021/month=01/dayofmonth=13/2021-01-13-11.json.gz\n",
      "-rw-r--r--   3 itversity itversity   65044936 2021-09-14 14:22 /user/itversity/itv-github/streaming/landing/ghactivity/year=2021/month=01/dayofmonth=13/2021-01-13-12.json.gz\n",
      "-rw-r--r--   3 itversity itversity   77894277 2021-09-14 14:22 /user/itversity/itv-github/streaming/landing/ghactivity/year=2021/month=01/dayofmonth=13/2021-01-13-13.json.gz\n",
      "-rw-r--r--   3 itversity itversity   81246956 2021-09-14 14:22 /user/itversity/itv-github/streaming/landing/ghactivity/year=2021/month=01/dayofmonth=13/2021-01-13-14.json.gz\n",
      "-rw-r--r--   3 itversity itversity   85821693 2021-09-14 14:22 /user/itversity/itv-github/streaming/landing/ghactivity/year=2021/month=01/dayofmonth=13/2021-01-13-15.json.gz\n",
      "-rw-r--r--   3 itversity itversity   80773183 2021-09-14 14:23 /user/itversity/itv-github/streaming/landing/ghactivity/year=2021/month=01/dayofmonth=13/2021-01-13-16.json.gz\n",
      "-rw-r--r--   3 itversity itversity   74211217 2021-09-14 14:23 /user/itversity/itv-github/streaming/landing/ghactivity/year=2021/month=01/dayofmonth=13/2021-01-13-17.json.gz\n",
      "-rw-r--r--   3 itversity itversity   85334578 2021-09-14 14:23 /user/itversity/itv-github/streaming/landing/ghactivity/year=2021/month=01/dayofmonth=13/2021-01-13-18.json.gz\n",
      "-rw-r--r--   3 itversity itversity   72766696 2021-09-14 14:24 /user/itversity/itv-github/streaming/landing/ghactivity/year=2021/month=01/dayofmonth=13/2021-01-13-19.json.gz\n",
      "-rw-r--r--   3 itversity itversity   68686332 2021-09-14 14:24 /user/itversity/itv-github/streaming/landing/ghactivity/year=2021/month=01/dayofmonth=13/2021-01-13-20.json.gz\n",
      "-rw-r--r--   3 itversity itversity   67046149 2021-09-14 14:24 /user/itversity/itv-github/streaming/landing/ghactivity/year=2021/month=01/dayofmonth=13/2021-01-13-21.json.gz\n",
      "-rw-r--r--   3 itversity itversity   61659516 2021-09-14 14:24 /user/itversity/itv-github/streaming/landing/ghactivity/year=2021/month=01/dayofmonth=13/2021-01-13-22.json.gz\n",
      "-rw-r--r--   3 itversity itversity   53437943 2021-09-14 14:24 /user/itversity/itv-github/streaming/landing/ghactivity/year=2021/month=01/dayofmonth=13/2021-01-13-23.json.gz\n"
     ]
    }
   ],
   "source": [
    "!hdfs dfs -ls -t -r /user/${USER}/itv-github/streaming/landing/ghactivity/year=2021/month=01/dayofmonth=13"
   ]
  },
  {
   "cell_type": "code",
   "execution_count": 4,
   "metadata": {
    "application/vnd.databricks.v1+cell": {
     "inputWidgets": {},
     "nuid": "5534c89f-d9b0-4a1f-8fd6-5d31ffe9e6fe",
     "showTitle": false,
     "title": ""
    }
   },
   "outputs": [
    {
     "name": "stdout",
     "output_type": "stream",
     "text": [
      "24\n"
     ]
    }
   ],
   "source": [
    "!hdfs dfs -ls /user/${USER}/itv-github/streaming/landing/ghactivity/year=2021/month=01/dayofmonth=13/2021-01-13-*.json.gz|wc -l"
   ]
  },
  {
   "cell_type": "code",
   "execution_count": null,
   "metadata": {},
   "outputs": [],
   "source": []
  }
 ],
 "metadata": {
  "application/vnd.databricks.v1+notebook": {
   "dashboards": [],
   "language": "python",
   "notebookMetadata": {
    "pythonIndentUnit": 2
   },
   "notebookName": "05 Upload GHArchive Files to s3",
   "notebookOrigID": 1228141849143114,
   "widgets": {}
  },
  "kernelspec": {
   "display_name": "Pyspark 3",
   "language": "python",
   "name": "pyspark3"
  },
  "language_info": {
   "codemirror_mode": {
    "name": "ipython",
    "version": 3
   },
   "file_extension": ".py",
   "mimetype": "text/x-python",
   "name": "python",
   "nbconvert_exporter": "python",
   "pygments_lexer": "ipython3",
   "version": "3.6.12"
  }
 },
 "nbformat": 4,
 "nbformat_minor": 4
}
