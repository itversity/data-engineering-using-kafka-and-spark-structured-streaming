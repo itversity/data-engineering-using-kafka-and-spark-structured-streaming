{
 "cells": [
  {
   "cell_type": "markdown",
   "metadata": {
    "application/vnd.databricks.v1+cell": {
     "inputWidgets": {},
     "nuid": "df1d2763-0071-4e20-9f6a-fd02309f9e46",
     "showTitle": false,
     "title": ""
    }
   },
   "source": [
    "## Create working directory in HDFS\n",
    "\n",
    "Let us go ahead and create working directory in HDFS."
   ]
  },
  {
   "cell_type": "code",
   "execution_count": 1,
   "metadata": {
    "application/vnd.databricks.v1+cell": {
     "inputWidgets": {},
     "nuid": "86c428f3-b8a7-47fe-812d-fe1a6fdd92e0",
     "showTitle": false,
     "title": ""
    }
   },
   "outputs": [],
   "source": [
    "!hdfs dfs -mkdir -p /user/${USER}/itv-github"
   ]
  },
  {
   "cell_type": "markdown",
   "metadata": {
    "application/vnd.databricks.v1+cell": {
     "inputWidgets": {},
     "nuid": "f4b2178f-f699-475f-820d-40f405945eb5",
     "showTitle": false,
     "title": ""
    }
   },
   "source": [
    "* Delete the directory and create the directory to explore reading files in streaming fashion. First let us add files to this location."
   ]
  },
  {
   "cell_type": "code",
   "execution_count": 2,
   "metadata": {
    "application/vnd.databricks.v1+cell": {
     "inputWidgets": {},
     "nuid": "a5c3ba53-38ab-4cc9-a160-3e4e22ff9ae9",
     "showTitle": false,
     "title": ""
    }
   },
   "outputs": [
    {
     "name": "stdout",
     "output_type": "stream",
     "text": [
      "rm: `/user/itversity/itv-github/streaming': No such file or directory\n"
     ]
    }
   ],
   "source": [
    "!hdfs dfs -rm -R -skipTrash /user/${USER}/itv-github/streaming"
   ]
  },
  {
   "cell_type": "code",
   "execution_count": 3,
   "metadata": {
    "application/vnd.databricks.v1+cell": {
     "inputWidgets": {},
     "nuid": "a5c3ba53-38ab-4cc9-a160-3e4e22ff9ae9",
     "showTitle": false,
     "title": ""
    }
   },
   "outputs": [],
   "source": [
    "!hdfs dfs -mkdir -p /user/${USER}/itv-github/streaming"
   ]
  },
  {
   "cell_type": "code",
   "execution_count": 4,
   "metadata": {},
   "outputs": [],
   "source": [
    "!hdfs dfs -ls /user/${USER}/itv-github/streaming"
   ]
  },
  {
   "cell_type": "code",
   "execution_count": null,
   "metadata": {},
   "outputs": [],
   "source": []
  }
 ],
 "metadata": {
  "application/vnd.databricks.v1+notebook": {
   "dashboards": [],
   "language": "python",
   "notebookMetadata": {
    "pythonIndentUnit": 2
   },
   "notebookName": "04 Configure Cluster with Instance Profile",
   "notebookOrigID": 1228141849143102,
   "widgets": {}
  },
  "kernelspec": {
   "display_name": "Pyspark 3",
   "language": "python",
   "name": "pyspark3"
  },
  "language_info": {
   "codemirror_mode": {
    "name": "ipython",
    "version": 3
   },
   "file_extension": ".py",
   "mimetype": "text/x-python",
   "name": "python",
   "nbconvert_exporter": "python",
   "pygments_lexer": "ipython3",
   "version": "3.6.12"
  }
 },
 "nbformat": 4,
 "nbformat_minor": 4
}
