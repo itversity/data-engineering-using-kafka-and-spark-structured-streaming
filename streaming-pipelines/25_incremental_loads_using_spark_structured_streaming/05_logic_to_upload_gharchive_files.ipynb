{
 "cells": [
  {
   "cell_type": "markdown",
   "metadata": {
    "application/vnd.databricks.v1+cell": {
     "inputWidgets": {},
     "nuid": "12322148-76da-40e7-b80c-66e0ebbbb2a2",
     "showTitle": false,
     "title": ""
    }
   },
   "source": [
    "## Logic to upload GHArchive Files\n",
    "\n",
    "Let us go through the logic to upload GHArchive website to HDFS.\n",
    "* Make sure the folder is created to place the files.\n",
    "* Get the content of the file using `requests` module using`requests.get`. We need to pass the URI from which the files are supposed to be downloaded.\n",
    "* It will return an object of type **Response** which contain the `content` attribute.\n",
    "* The content can be uploaded to any file system. As our cluster is not configured with Web HDFS, we will first add files to local file system, then we will upload to HDFS using `hdfs dfs -put` command."
   ]
  },
  {
   "cell_type": "markdown",
   "metadata": {
    "application/vnd.databricks.v1+cell": {
     "inputWidgets": {},
     "nuid": "34d78f68-74fe-4fdb-978b-740cb6c2ff7c",
     "showTitle": false,
     "title": ""
    }
   },
   "source": [
    "* Creating the base directory."
   ]
  },
  {
   "cell_type": "code",
   "execution_count": null,
   "metadata": {},
   "outputs": [],
   "source": [
    "!hdfs dfs -rm -R -skipTrash /user/${USER}/itv-github/streaming/landing/ghactivity"
   ]
  },
  {
   "cell_type": "code",
   "execution_count": null,
   "metadata": {
    "application/vnd.databricks.v1+cell": {
     "inputWidgets": {},
     "nuid": "8812dd3b-2cb6-402f-8ac3-e93521098e3f",
     "showTitle": false,
     "title": ""
    }
   },
   "outputs": [],
   "source": [
    "!hdfs dfs -mkdir -p /user/${USER}/itv-github/streaming/landing/ghactivity"
   ]
  },
  {
   "cell_type": "markdown",
   "metadata": {
    "application/vnd.databricks.v1+cell": {
     "inputWidgets": {},
     "nuid": "939cfc77-9212-4afa-a76c-80d4df6afdf0",
     "showTitle": false,
     "title": ""
    }
   },
   "source": [
    "* Get the content of the file."
   ]
  },
  {
   "cell_type": "code",
   "execution_count": null,
   "metadata": {
    "application/vnd.databricks.v1+cell": {
     "inputWidgets": {},
     "nuid": "63e11e2c-30ce-406b-925e-dba1c9f7f9de",
     "showTitle": false,
     "title": ""
    }
   },
   "outputs": [],
   "source": [
    "import requests"
   ]
  },
  {
   "cell_type": "code",
   "execution_count": null,
   "metadata": {
    "application/vnd.databricks.v1+cell": {
     "inputWidgets": {},
     "nuid": "c11bdaa1-339c-4000-9d1f-ba45307a18e6",
     "showTitle": false,
     "title": ""
    }
   },
   "outputs": [],
   "source": [
    "file = '2021-01-13-0.json.gz'"
   ]
  },
  {
   "cell_type": "code",
   "execution_count": null,
   "metadata": {
    "application/vnd.databricks.v1+cell": {
     "inputWidgets": {},
     "nuid": "ba81eb58-f95a-43a4-a56a-a161818a3cfe",
     "showTitle": false,
     "title": ""
    }
   },
   "outputs": [],
   "source": [
    "res = requests.get(f'https://data.gharchive.org/{file}')"
   ]
  },
  {
   "cell_type": "code",
   "execution_count": null,
   "metadata": {},
   "outputs": [],
   "source": [
    "res"
   ]
  },
  {
   "cell_type": "code",
   "execution_count": null,
   "metadata": {},
   "outputs": [],
   "source": [
    "type(res.content)"
   ]
  },
  {
   "cell_type": "markdown",
   "metadata": {
    "application/vnd.databricks.v1+cell": {
     "inputWidgets": {},
     "nuid": "119c0653-c0cd-45b8-a1c0-677d7f1fc583",
     "showTitle": false,
     "title": ""
    }
   },
   "source": [
    "* Uploading to local file system."
   ]
  },
  {
   "cell_type": "code",
   "execution_count": null,
   "metadata": {},
   "outputs": [],
   "source": [
    "!rm -rf /home/${USER}/data/ghactivity"
   ]
  },
  {
   "cell_type": "code",
   "execution_count": null,
   "metadata": {},
   "outputs": [],
   "source": [
    "!mkdir -p /home/${USER}/data/ghactivity"
   ]
  },
  {
   "cell_type": "code",
   "execution_count": null,
   "metadata": {},
   "outputs": [],
   "source": [
    "import getpass\n",
    "username = getpass.getuser()"
   ]
  },
  {
   "cell_type": "code",
   "execution_count": null,
   "metadata": {
    "application/vnd.databricks.v1+cell": {
     "inputWidgets": {},
     "nuid": "3499860d-2ee9-4bde-aed4-7d234aecca54",
     "showTitle": false,
     "title": ""
    }
   },
   "outputs": [],
   "source": [
    "year = file[:4]\n",
    "year"
   ]
  },
  {
   "cell_type": "code",
   "execution_count": null,
   "metadata": {
    "application/vnd.databricks.v1+cell": {
     "inputWidgets": {},
     "nuid": "64bba92a-8145-4583-b755-36858669943c",
     "showTitle": false,
     "title": ""
    }
   },
   "outputs": [],
   "source": [
    "month = file[5:7]\n",
    "month"
   ]
  },
  {
   "cell_type": "code",
   "execution_count": null,
   "metadata": {
    "application/vnd.databricks.v1+cell": {
     "inputWidgets": {},
     "nuid": "aed353a8-b09f-4233-990f-ad69305424e3",
     "showTitle": false,
     "title": ""
    }
   },
   "outputs": [],
   "source": [
    "dayofmonth = file[8:10]\n",
    "dayofmonth"
   ]
  },
  {
   "cell_type": "code",
   "execution_count": null,
   "metadata": {},
   "outputs": [],
   "source": [
    "target_local_folder = f'/home/{username}/data/ghactivity/year={year}/month={month}/dayofmonth={dayofmonth}'"
   ]
  },
  {
   "cell_type": "code",
   "execution_count": null,
   "metadata": {},
   "outputs": [],
   "source": [
    "target_local_folder"
   ]
  },
  {
   "cell_type": "code",
   "execution_count": null,
   "metadata": {},
   "outputs": [],
   "source": [
    "import subprocess\n",
    "subprocess.check_call(f'mkdir -p {target_local_folder}', shell=True)"
   ]
  },
  {
   "cell_type": "code",
   "execution_count": null,
   "metadata": {
    "application/vnd.databricks.v1+cell": {
     "inputWidgets": {},
     "nuid": "a9adf08e-8b38-41f8-962a-31d2fc4804d4",
     "showTitle": false,
     "title": ""
    }
   },
   "outputs": [],
   "source": [
    "target_file = open(f'{target_local_folder}/{file}', 'wb')"
   ]
  },
  {
   "cell_type": "code",
   "execution_count": null,
   "metadata": {
    "application/vnd.databricks.v1+cell": {
     "inputWidgets": {},
     "nuid": "5f6a43d4-163f-4fc8-85fa-d19bf524f6f4",
     "showTitle": false,
     "title": ""
    }
   },
   "outputs": [],
   "source": [
    "upload_res = target_file.write(res.content)"
   ]
  },
  {
   "cell_type": "code",
   "execution_count": null,
   "metadata": {
    "application/vnd.databricks.v1+cell": {
     "inputWidgets": {},
     "nuid": "d7d8a911-7f94-407c-a67f-9daaf3eed98d",
     "showTitle": false,
     "title": ""
    }
   },
   "outputs": [],
   "source": [
    "upload_res"
   ]
  },
  {
   "cell_type": "code",
   "execution_count": null,
   "metadata": {},
   "outputs": [],
   "source": [
    "target_file.close()"
   ]
  },
  {
   "cell_type": "code",
   "execution_count": null,
   "metadata": {},
   "outputs": [],
   "source": [
    "!ls -lR /home/${USER}/data/ghactivity/"
   ]
  },
  {
   "cell_type": "markdown",
   "metadata": {
    "application/vnd.databricks.v1+cell": {
     "inputWidgets": {},
     "nuid": "dc398295-906e-4206-a01b-24d807da14c4",
     "showTitle": false,
     "title": ""
    }
   },
   "source": [
    "* Copy the files to HDFS and validate."
   ]
  },
  {
   "cell_type": "code",
   "execution_count": null,
   "metadata": {},
   "outputs": [],
   "source": [
    "target_hdfs_folder = f'/user/{username}/itv-github/streaming/landing/ghactivity/year={year}/month={month}/dayofmonth={dayofmonth}'"
   ]
  },
  {
   "cell_type": "code",
   "execution_count": null,
   "metadata": {},
   "outputs": [],
   "source": [
    "target_hdfs_folder"
   ]
  },
  {
   "cell_type": "code",
   "execution_count": null,
   "metadata": {},
   "outputs": [],
   "source": [
    "subprocess.check_call(f'hdfs dfs -mkdir -p {target_hdfs_folder}', shell=True)"
   ]
  },
  {
   "cell_type": "code",
   "execution_count": null,
   "metadata": {},
   "outputs": [],
   "source": [
    "subprocess.check_call(f'hdfs dfs -put {target_local_folder}/{file} {target_hdfs_folder}', shell=True)"
   ]
  },
  {
   "cell_type": "code",
   "execution_count": null,
   "metadata": {},
   "outputs": [],
   "source": [
    "!hdfs dfs -ls -R /user/${USER}/itv-github/streaming/landing/ghactivity"
   ]
  },
  {
   "cell_type": "code",
   "execution_count": null,
   "metadata": {},
   "outputs": [],
   "source": []
  }
 ],
 "metadata": {
  "application/vnd.databricks.v1+notebook": {
   "dashboards": [],
   "language": "python",
   "notebookMetadata": {
    "pythonIndentUnit": 2
   },
   "notebookName": "05 Upload GHArchive Files to s3",
   "notebookOrigID": 1228141849143114,
   "widgets": {}
  },
  "kernelspec": {
   "display_name": "Pyspark 3",
   "language": "python",
   "name": "pyspark3"
  },
  "language_info": {
   "codemirror_mode": {
    "name": "ipython",
    "version": 3
   },
   "file_extension": ".py",
   "mimetype": "text/x-python",
   "name": "python",
   "nbconvert_exporter": "python",
   "pygments_lexer": "ipython3",
   "version": "3.6.12"
  }
 },
 "nbformat": 4,
 "nbformat_minor": 4
}
