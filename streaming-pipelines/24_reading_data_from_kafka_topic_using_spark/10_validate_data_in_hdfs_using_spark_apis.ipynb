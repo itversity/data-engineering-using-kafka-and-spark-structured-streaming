{
 "cells": [
  {
   "cell_type": "markdown",
   "id": "2adb8bb2",
   "metadata": {},
   "source": [
    "## Validate Data in HDFS using Spark\n",
    "\n",
    "As we have successfully written data to HDFS in streaming fashion, let us validate whether data is written to HDFS as expected or not. Also we will review the checkpoint location to understand what is captured as part of the checkpoint."
   ]
  },
  {
   "cell_type": "code",
   "execution_count": 1,
   "id": "69c768a4",
   "metadata": {},
   "outputs": [],
   "source": [
    "from pyspark.sql import SparkSession\n",
    "\n",
    "import getpass\n",
    "username = getpass.getuser()\n",
    "\n",
    "spark = SparkSession. \\\n",
    "    builder. \\\n",
    "    config('spark.jars.packages', 'org.apache.spark:spark-sql-kafka-0-10_2.12:3.0.1'). \\\n",
    "    config('spark.ui.port', '0'). \\\n",
    "    config('spark.sql.warehouse.dir', f'/user/{username}/warehouse'). \\\n",
    "    enableHiveSupport(). \\\n",
    "    appName(f'{username} | Python - Kafka and Spark Integration'). \\\n",
    "    master('yarn'). \\\n",
    "    getOrCreate()"
   ]
  },
  {
   "cell_type": "code",
   "execution_count": 2,
   "id": "e259b83a",
   "metadata": {},
   "outputs": [
    {
     "name": "stdout",
     "output_type": "stream",
     "text": [
      "Found 2 items\n",
      "drwxr-xr-x   - itversity itversity          0 2021-09-02 13:20 /user/itversity/kafka/retail_logs/gen_logs/checkpoint\n",
      "drwxr-xr-x   - itversity itversity          0 2021-09-02 13:21 /user/itversity/kafka/retail_logs/gen_logs/data\n"
     ]
    }
   ],
   "source": [
    "!hdfs dfs -ls /user/${USER}/kafka/retail_logs/gen_logs"
   ]
  },
  {
   "cell_type": "code",
   "execution_count": null,
   "id": "8ef22ab8",
   "metadata": {},
   "outputs": [],
   "source": [
    "!hdfs dfs -ls -R /user/${USER}/kafka/retail_logs/gen_logs/data"
   ]
  },
  {
   "cell_type": "code",
   "execution_count": 4,
   "id": "ea847854",
   "metadata": {},
   "outputs": [
    {
     "name": "stdout",
     "output_type": "stream",
     "text": [
      "Found 4 items\n",
      "drwxr-xr-x   - itversity itversity          0 2021-09-02 13:32 /user/itversity/kafka/retail_logs/gen_logs/checkpoint/commits\n",
      "-rw-r--r--   3 itversity itversity         45 2021-09-02 13:20 /user/itversity/kafka/retail_logs/gen_logs/checkpoint/metadata\n",
      "drwxr-xr-x   - itversity itversity          0 2021-09-02 13:32 /user/itversity/kafka/retail_logs/gen_logs/checkpoint/offsets\n",
      "drwxr-xr-x   - itversity itversity          0 2021-09-02 13:20 /user/itversity/kafka/retail_logs/gen_logs/checkpoint/sources\n"
     ]
    }
   ],
   "source": [
    "!hdfs dfs -ls /user/${USER}/kafka/retail_logs/gen_logs/checkpoint"
   ]
  },
  {
   "cell_type": "code",
   "execution_count": 5,
   "id": "7f31baab",
   "metadata": {},
   "outputs": [
    {
     "name": "stdout",
     "output_type": "stream",
     "text": [
      "drwxr-xr-x   - itversity itversity          0 2021-09-02 13:20 /user/itversity/kafka/retail_logs/gen_logs/checkpoint/sources/0\n",
      "-rw-r--r--   3 itversity itversity         56 2021-09-02 13:20 /user/itversity/kafka/retail_logs/gen_logs/checkpoint/sources/0/0\n"
     ]
    }
   ],
   "source": [
    "!hdfs dfs -ls -R /user/${USER}/kafka/retail_logs/gen_logs/checkpoint/sources"
   ]
  },
  {
   "cell_type": "code",
   "execution_count": 6,
   "id": "0aa73675",
   "metadata": {},
   "outputs": [
    {
     "name": "stdout",
     "output_type": "stream",
     "text": [
      "\u0000v1\n",
      "{\"itversity_retail\":{\"2\":17133,\"1\":15506,\"0\":15348}}"
     ]
    }
   ],
   "source": [
    "!hdfs dfs -cat /user/itversity/kafka/retail_logs/gen_logs/checkpoint/sources/0/0"
   ]
  },
  {
   "cell_type": "code",
   "execution_count": 9,
   "id": "1c693c3b",
   "metadata": {},
   "outputs": [
    {
     "name": "stdout",
     "output_type": "stream",
     "text": [
      "-rw-r--r--   3 itversity itversity        509 2021-09-02 13:20 /user/itversity/kafka/retail_logs/gen_logs/checkpoint/offsets/0\n",
      "-rw-r--r--   3 itversity itversity        509 2021-09-02 13:21 /user/itversity/kafka/retail_logs/gen_logs/checkpoint/offsets/1\n",
      "-rw-r--r--   3 itversity itversity        509 2021-09-02 13:25 /user/itversity/kafka/retail_logs/gen_logs/checkpoint/offsets/10\n",
      "-rw-r--r--   3 itversity itversity        509 2021-09-02 13:26 /user/itversity/kafka/retail_logs/gen_logs/checkpoint/offsets/11\n",
      "-rw-r--r--   3 itversity itversity        509 2021-09-02 13:26 /user/itversity/kafka/retail_logs/gen_logs/checkpoint/offsets/12\n",
      "-rw-r--r--   3 itversity itversity        509 2021-09-02 13:27 /user/itversity/kafka/retail_logs/gen_logs/checkpoint/offsets/13\n",
      "-rw-r--r--   3 itversity itversity        509 2021-09-02 13:27 /user/itversity/kafka/retail_logs/gen_logs/checkpoint/offsets/14\n",
      "-rw-r--r--   3 itversity itversity        509 2021-09-02 13:28 /user/itversity/kafka/retail_logs/gen_logs/checkpoint/offsets/15\n",
      "-rw-r--r--   3 itversity itversity        509 2021-09-02 13:28 /user/itversity/kafka/retail_logs/gen_logs/checkpoint/offsets/16\n",
      "-rw-r--r--   3 itversity itversity        509 2021-09-02 13:29 /user/itversity/kafka/retail_logs/gen_logs/checkpoint/offsets/17\n",
      "-rw-r--r--   3 itversity itversity        509 2021-09-02 13:29 /user/itversity/kafka/retail_logs/gen_logs/checkpoint/offsets/18\n",
      "-rw-r--r--   3 itversity itversity        509 2021-09-02 13:30 /user/itversity/kafka/retail_logs/gen_logs/checkpoint/offsets/19\n",
      "-rw-r--r--   3 itversity itversity        509 2021-09-02 13:21 /user/itversity/kafka/retail_logs/gen_logs/checkpoint/offsets/2\n",
      "-rw-r--r--   3 itversity itversity        509 2021-09-02 13:30 /user/itversity/kafka/retail_logs/gen_logs/checkpoint/offsets/20\n",
      "-rw-r--r--   3 itversity itversity        509 2021-09-02 13:31 /user/itversity/kafka/retail_logs/gen_logs/checkpoint/offsets/21\n",
      "-rw-r--r--   3 itversity itversity        509 2021-09-02 13:31 /user/itversity/kafka/retail_logs/gen_logs/checkpoint/offsets/22\n",
      "-rw-r--r--   3 itversity itversity        509 2021-09-02 13:32 /user/itversity/kafka/retail_logs/gen_logs/checkpoint/offsets/23\n",
      "-rw-r--r--   3 itversity itversity        509 2021-09-02 13:32 /user/itversity/kafka/retail_logs/gen_logs/checkpoint/offsets/24\n",
      "-rw-r--r--   3 itversity itversity        509 2021-09-02 13:33 /user/itversity/kafka/retail_logs/gen_logs/checkpoint/offsets/25\n",
      "-rw-r--r--   3 itversity itversity        509 2021-09-02 13:33 /user/itversity/kafka/retail_logs/gen_logs/checkpoint/offsets/26\n",
      "-rw-r--r--   3 itversity itversity        509 2021-09-02 13:34 /user/itversity/kafka/retail_logs/gen_logs/checkpoint/offsets/27\n",
      "-rw-r--r--   3 itversity itversity        509 2021-09-02 13:34 /user/itversity/kafka/retail_logs/gen_logs/checkpoint/offsets/28\n",
      "-rw-r--r--   3 itversity itversity        509 2021-09-02 13:35 /user/itversity/kafka/retail_logs/gen_logs/checkpoint/offsets/29\n",
      "-rw-r--r--   3 itversity itversity        509 2021-09-02 13:22 /user/itversity/kafka/retail_logs/gen_logs/checkpoint/offsets/3\n",
      "-rw-r--r--   3 itversity itversity        509 2021-09-02 13:35 /user/itversity/kafka/retail_logs/gen_logs/checkpoint/offsets/30\n",
      "-rw-r--r--   3 itversity itversity        509 2021-09-02 13:36 /user/itversity/kafka/retail_logs/gen_logs/checkpoint/offsets/31\n",
      "-rw-r--r--   3 itversity itversity        509 2021-09-02 13:36 /user/itversity/kafka/retail_logs/gen_logs/checkpoint/offsets/32\n",
      "-rw-r--r--   3 itversity itversity        509 2021-09-02 13:37 /user/itversity/kafka/retail_logs/gen_logs/checkpoint/offsets/33\n",
      "-rw-r--r--   3 itversity itversity        509 2021-09-02 13:37 /user/itversity/kafka/retail_logs/gen_logs/checkpoint/offsets/34\n",
      "-rw-r--r--   3 itversity itversity        509 2021-09-02 13:38 /user/itversity/kafka/retail_logs/gen_logs/checkpoint/offsets/35\n",
      "-rw-r--r--   3 itversity itversity        509 2021-09-02 13:38 /user/itversity/kafka/retail_logs/gen_logs/checkpoint/offsets/36\n",
      "-rw-r--r--   3 itversity itversity        509 2021-09-02 13:39 /user/itversity/kafka/retail_logs/gen_logs/checkpoint/offsets/37\n",
      "-rw-r--r--   3 itversity itversity        509 2021-09-02 13:39 /user/itversity/kafka/retail_logs/gen_logs/checkpoint/offsets/38\n",
      "-rw-r--r--   3 itversity itversity        509 2021-09-02 13:40 /user/itversity/kafka/retail_logs/gen_logs/checkpoint/offsets/39\n",
      "-rw-r--r--   3 itversity itversity        509 2021-09-02 13:22 /user/itversity/kafka/retail_logs/gen_logs/checkpoint/offsets/4\n",
      "-rw-r--r--   3 itversity itversity        509 2021-09-02 13:40 /user/itversity/kafka/retail_logs/gen_logs/checkpoint/offsets/40\n",
      "-rw-r--r--   3 itversity itversity        509 2021-09-02 13:23 /user/itversity/kafka/retail_logs/gen_logs/checkpoint/offsets/5\n",
      "-rw-r--r--   3 itversity itversity        509 2021-09-02 13:23 /user/itversity/kafka/retail_logs/gen_logs/checkpoint/offsets/6\n",
      "-rw-r--r--   3 itversity itversity        509 2021-09-02 13:24 /user/itversity/kafka/retail_logs/gen_logs/checkpoint/offsets/7\n",
      "-rw-r--r--   3 itversity itversity        509 2021-09-02 13:24 /user/itversity/kafka/retail_logs/gen_logs/checkpoint/offsets/8\n",
      "-rw-r--r--   3 itversity itversity        509 2021-09-02 13:25 /user/itversity/kafka/retail_logs/gen_logs/checkpoint/offsets/9\n"
     ]
    }
   ],
   "source": [
    "!hdfs dfs -ls -R /user/itversity/kafka/retail_logs/gen_logs/checkpoint/offsets"
   ]
  },
  {
   "cell_type": "code",
   "execution_count": 10,
   "id": "134d6672",
   "metadata": {},
   "outputs": [
    {
     "name": "stdout",
     "output_type": "stream",
     "text": [
      "v1\n",
      "{\"batchWatermarkMs\":0,\"batchTimestampMs\":1630603245236,\"conf\":{\"spark.sql.streaming.stateStore.providerClass\":\"org.apache.spark.sql.execution.streaming.state.HDFSBackedStateStoreProvider\",\"spark.sql.streaming.join.stateFormatVersion\":\"2\",\"spark.sql.streaming.flatMapGroupsWithState.stateFormatVersion\":\"2\",\"spark.sql.streaming.multipleWatermarkPolicy\":\"min\",\"spark.sql.streaming.aggregation.stateFormatVersion\":\"2\",\"spark.sql.shuffle.partitions\":\"200\"}}\n",
      "{\"itversity_retail\":{\"2\":17133,\"1\":15506,\"0\":15348}}"
     ]
    }
   ],
   "source": [
    "!hdfs dfs -cat /user/itversity/kafka/retail_logs/gen_logs/checkpoint/offsets/0"
   ]
  },
  {
   "cell_type": "code",
   "execution_count": 11,
   "id": "e99db6b1",
   "metadata": {},
   "outputs": [
    {
     "name": "stdout",
     "output_type": "stream",
     "text": [
      "v1\n",
      "{\"batchWatermarkMs\":0,\"batchTimestampMs\":1630603260011,\"conf\":{\"spark.sql.streaming.stateStore.providerClass\":\"org.apache.spark.sql.execution.streaming.state.HDFSBackedStateStoreProvider\",\"spark.sql.streaming.join.stateFormatVersion\":\"2\",\"spark.sql.streaming.flatMapGroupsWithState.stateFormatVersion\":\"2\",\"spark.sql.streaming.multipleWatermarkPolicy\":\"min\",\"spark.sql.streaming.aggregation.stateFormatVersion\":\"2\",\"spark.sql.shuffle.partitions\":\"200\"}}\n",
      "{\"itversity_retail\":{\"2\":17139,\"1\":15511,\"0\":15352}}"
     ]
    }
   ],
   "source": [
    "!hdfs dfs -cat /user/itversity/kafka/retail_logs/gen_logs/checkpoint/offsets/1"
   ]
  },
  {
   "cell_type": "code",
   "execution_count": 13,
   "id": "250c1c32",
   "metadata": {},
   "outputs": [
    {
     "name": "stdout",
     "output_type": "stream",
     "text": [
      "v1\n",
      "{\"batchWatermarkMs\":0,\"batchTimestampMs\":1630603290010,\"conf\":{\"spark.sql.streaming.stateStore.providerClass\":\"org.apache.spark.sql.execution.streaming.state.HDFSBackedStateStoreProvider\",\"spark.sql.streaming.join.stateFormatVersion\":\"2\",\"spark.sql.streaming.flatMapGroupsWithState.stateFormatVersion\":\"2\",\"spark.sql.streaming.multipleWatermarkPolicy\":\"min\",\"spark.sql.streaming.aggregation.stateFormatVersion\":\"2\",\"spark.sql.shuffle.partitions\":\"200\"}}\n",
      "{\"itversity_retail\":{\"2\":17148,\"1\":15522,\"0\":15362}}"
     ]
    }
   ],
   "source": [
    "!hdfs dfs -cat /user/itversity/kafka/retail_logs/gen_logs/checkpoint/offsets/2"
   ]
  },
  {
   "cell_type": "code",
   "execution_count": 16,
   "id": "04a03037",
   "metadata": {},
   "outputs": [],
   "source": [
    "df = spark.read.csv(f'/user/{username}/kafka/retail_logs/gen_logs/data')"
   ]
  },
  {
   "cell_type": "code",
   "execution_count": 17,
   "id": "614cf14b",
   "metadata": {},
   "outputs": [
    {
     "name": "stdout",
     "output_type": "stream",
     "text": [
      "root\n",
      " |-- _c0: string (nullable = true)\n",
      " |-- _c1: string (nullable = true)\n",
      " |-- year: integer (nullable = true)\n",
      " |-- month: integer (nullable = true)\n",
      " |-- dayofmonth: integer (nullable = true)\n",
      "\n"
     ]
    }
   ],
   "source": [
    "df.printSchema()"
   ]
  },
  {
   "cell_type": "code",
   "execution_count": 18,
   "id": "fadedce9",
   "metadata": {},
   "outputs": [
    {
     "name": "stdout",
     "output_type": "stream",
     "text": [
      "+--------------------------------------------------------------------------------------------------------------------------------------------------------------------------------------------------------------------------------------------+----------+----+-----+----------+\n",
      "|_c0                                                                                                                                                                                                                                         |_c1       |year|month|dayofmonth|\n",
      "+--------------------------------------------------------------------------------------------------------------------------------------------------------------------------------------------------------------------------------------------+----------+----+-----+----------+\n",
      "|138.246.234.237 - - [02/Sep/2021:13:32:30 -0800] \"GET /departments HTTP/1.1\" 200 1400 \"-\" \"Mozilla/5.0 (Windows NT 6.1; WOW64; rv:30.0) Gecko/20100101 Firefox/30.0\"                                                                        |2021-09-02|2021|9    |2         |\n",
      "|176.174.183.200 - - [02/Sep/2021:13:32:32 -0800] \"GET /departments HTTP/1.1\" 200 815 \"-\" \"Mozilla/5.0 (Macintosh; Intel Mac OS X 10_9_4) AppleWebKit/537.77.4 (KHTML, like Gecko) Version/7.0.5 Safari/537.77.4\"                            |2021-09-02|2021|9    |2         |\n",
      "|183.166.167.105 - - [02/Sep/2021:13:32:34 -0800] \"GET /departments HTTP/1.1\" 503 579 \"-\" \"Mozilla/5.0 (Macintosh; Intel Mac OS X 10_9_4) AppleWebKit/537.36 (KHTML, like Gecko) Chrome/36.0.1985.125 Safari/537.36\"                         |2021-09-02|2021|9    |2         |\n",
      "|49.39.103.81 - - [02/Sep/2021:13:32:36 -0800] \"GET /departments HTTP/1.1\" 200 317 \"-\" \"Mozilla/5.0 (Macintosh; Intel Mac OS X 10_9_3) AppleWebKit/537.76.4 (KHTML, like Gecko) Version/7.0.4 Safari/537.76.4\"                               |2021-09-02|2021|9    |2         |\n",
      "|157.248.22.17 - - [02/Sep/2021:13:32:38 -0800] \"GET /product/253 HTTP/1.1\" 200 566 \"-\" \"Mozilla/5.0 (Windows NT 6.1; WOW64; rv:30.0) Gecko/20100101 Firefox/30.0\"                                                                           |2021-09-02|2021|9    |2         |\n",
      "|204.163.65.136 - - [02/Sep/2021:13:32:40 -0800] \"GET /checkout HTTP/1.1\" 200 1803 \"-\" \"Mozilla/5.0 (Macintosh; Intel Mac OS X 10_9_3) AppleWebKit/537.36 (KHTML, like Gecko) Chrome/35.0.1916.153 Safari/537.36\"                            |2021-09-02|2021|9    |2         |\n",
      "|145.6.21.145 - - [02/Sep/2021:13:32:42 -0800] \"GET /department/footwear/categories HTTP/1.1\" 200 1043 \"-\" \"Mozilla/5.0 (Macintosh; Intel Mac OS X 10.9; rv:30.0) Gecko/20100101 Firefox/30.0\"                                               |2021-09-02|2021|9    |2         |\n",
      "|19.139.49.77 - - [02/Sep/2021:13:32:44 -0800] \"GET /product/364 HTTP/1.1\" 200 209 \"-\" \"Mozilla/5.0 (X11; Linux x86_64) AppleWebKit/537.36 (KHTML, like Gecko) Chrome/35.0.1916.153 Safari/537.36\"                                           |2021-09-02|2021|9    |2         |\n",
      "|193.163.130.218 - - [02/Sep/2021:13:32:46 -0800] \"GET /login HTTP/1.1\" 200 847 \"-\" \"Mozilla/5.0 (Macintosh; Intel Mac OS X 10_9_4) AppleWebKit/537.36 (KHTML, like Gecko) Chrome/36.0.1985.125 Safari/537.36\"                               |2021-09-02|2021|9    |2         |\n",
      "|130.156.143.201 - - [02/Sep/2021:13:32:48 -0800] \"GET /departments HTTP/1.1\" 200 1939 \"-\" \"Mozilla/5.0 (X11; Linux x86_64) AppleWebKit/537.36 (KHTML, like Gecko) Chrome/35.0.1916.153 Safari/537.36\"                                       |2021-09-02|2021|9    |2         |\n",
      "|22.48.75.29 - - [02/Sep/2021:13:32:50 -0800] \"GET /logout HTTP/1.1\" 200 668 \"-\" \"Mozilla/5.0 (Macintosh; Intel Mac OS X 10_9_3) AppleWebKit/537.36 (KHTML, like Gecko) Chrome/35.0.1916.153 Safari/537.36\"                                  |2021-09-02|2021|9    |2         |\n",
      "|22.48.75.29 - - [02/Sep/2021:13:32:53 -0800] \"GET /departments HTTP/1.1\" 200 825 \"-\" \"Mozilla/5.0 (X11; Linux x86_64) AppleWebKit/537.36 (KHTML, like Gecko) Chrome/35.0.1916.153 Safari/537.36\"                                            |2021-09-02|2021|9    |2         |\n",
      "|76.20.221.171 - - [02/Sep/2021:13:32:55 -0800] \"GET /department/fan%20shop/categories HTTP/1.1\" 200 568 \"-\" \"Mozilla/5.0 (Windows NT 6.1; WOW64) AppleWebKit/537.36 (KHTML, like Gecko) Chrome/36.0.1985.125 Safari/537.36\"                 |2021-09-02|2021|9    |2         |\n",
      "|49.147.158.196 - - [02/Sep/2021:13:32:59 -0800] \"GET /product/1252 HTTP/1.1\" 200 229 \"-\" \"Mozilla/5.0 (Macintosh; Intel Mac OS X 10_9_4) AppleWebKit/537.77.4 (KHTML, like Gecko) Version/7.0.5 Safari/537.77.4\"                            |2021-09-02|2021|9    |2         |\n",
      "|41.99.208.203 - - [02/Sep/2021:13:35:29 -0800] \"GET /categories/cardio%20equipment/products HTTP/1.1\" 200 300 \"-\" \"Mozilla/5.0 (Macintosh; Intel Mac OS X 10_9_4) AppleWebKit/537.36 (KHTML, like Gecko) Chrome/35.0.1916.153 Safari/537.36\"|2021-09-02|2021|9    |2         |\n",
      "|205.151.227.11 - - [02/Sep/2021:13:35:32 -0800] \"GET /department/outdoors/categories HTTP/1.1\" 200 1580 \"-\" \"Mozilla/5.0 (Macintosh; Intel Mac OS X 10_9_3) AppleWebKit/537.36 (KHTML, like Gecko) Chrome/35.0.1916.153 Safari/537.36\"      |2021-09-02|2021|9    |2         |\n",
      "|144.79.206.42 - - [02/Sep/2021:13:35:34 -0800] \"GET /departments HTTP/1.1\" 200 2172 \"-\" \"Mozilla/5.0 (Windows NT 6.1; WOW64) AppleWebKit/537.36 (KHTML, like Gecko) Chrome/35.0.1916.153 Safari/537.36\"                                     |2021-09-02|2021|9    |2         |\n",
      "|165.99.219.200 - - [02/Sep/2021:13:35:37 -0800] \"GET /departments HTTP/1.1\" 200 1497 \"-\" \"Mozilla/5.0 (Macintosh; Intel Mac OS X 10_9_4) AppleWebKit/537.77.4 (KHTML, like Gecko) Version/7.0.5 Safari/537.77.4\"                            |2021-09-02|2021|9    |2         |\n",
      "|167.182.128.127 - - [02/Sep/2021:13:35:40 -0800] \"GET /departments HTTP/1.1\" 200 1794 \"-\" \"Mozilla/5.0 (Windows NT 6.1) AppleWebKit/537.36 (KHTML, like Gecko) Chrome/35.0.1916.153 Safari/537.36\"                                          |2021-09-02|2021|9    |2         |\n",
      "|149.245.181.17 - - [02/Sep/2021:13:35:42 -0800] \"GET /departments HTTP/1.1\" 200 1095 \"-\" \"Mozilla/5.0 (X11; Linux x86_64) AppleWebKit/537.36 (KHTML, like Gecko) Chrome/35.0.1916.153 Safari/537.36\"                                        |2021-09-02|2021|9    |2         |\n",
      "+--------------------------------------------------------------------------------------------------------------------------------------------------------------------------------------------------------------------------------------------+----------+----+-----+----------+\n",
      "only showing top 20 rows\n",
      "\n"
     ]
    }
   ],
   "source": [
    "df.show(truncate=False)"
   ]
  },
  {
   "cell_type": "code",
   "execution_count": null,
   "id": "a62ece5a",
   "metadata": {},
   "outputs": [],
   "source": []
  }
 ],
 "metadata": {
  "kernelspec": {
   "display_name": "Pyspark 3",
   "language": "python",
   "name": "pyspark3"
  },
  "language_info": {
   "codemirror_mode": {
    "name": "ipython",
    "version": 3
   },
   "file_extension": ".py",
   "mimetype": "text/x-python",
   "name": "python",
   "nbconvert_exporter": "python",
   "pygments_lexer": "ipython3",
   "version": "3.6.12"
  }
 },
 "nbformat": 4,
 "nbformat_minor": 5
}
