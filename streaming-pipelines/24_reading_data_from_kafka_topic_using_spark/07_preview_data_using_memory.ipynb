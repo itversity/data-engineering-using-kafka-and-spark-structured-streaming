{
 "cells": [
  {
   "cell_type": "markdown",
   "id": "193ecf40",
   "metadata": {},
   "source": [
    "## Preview Data using memory\n",
    "\n",
    "Let us preview the data consumed from Kafka topic using Spark Structured Streaming APIs.\n",
    "* We can either use `console` or `memory` as part of `writeStream.format` to preview the data.\n",
    "* Earlier we have seen how to preview the data using `console`.\n",
    "* We will also use this notebook to preview the data using format as `memory`. We will register as a view using `queryName`."
   ]
  },
  {
   "cell_type": "code",
   "execution_count": 1,
   "id": "19c9402f",
   "metadata": {},
   "outputs": [],
   "source": [
    "from pyspark.sql import SparkSession\n",
    "\n",
    "import getpass\n",
    "username = getpass.getuser()\n",
    "\n",
    "spark = SparkSession. \\\n",
    "    builder. \\\n",
    "    config('spark.jars.packages', 'org.apache.spark:spark-sql-kafka-0-10_2.12:3.0.1'). \\\n",
    "    config('spark.ui.port', '0'). \\\n",
    "    config('spark.sql.warehouse.dir', f'/user/{username}/warehouse'). \\\n",
    "    enableHiveSupport(). \\\n",
    "    appName(f'{username} | Python - Kafka and Spark Integration'). \\\n",
    "    master('yarn'). \\\n",
    "    getOrCreate()"
   ]
  },
  {
   "cell_type": "code",
   "execution_count": 2,
   "id": "f4f6cdf0",
   "metadata": {},
   "outputs": [],
   "source": [
    "kafka_bootstrap_servers = 'w01.itversity.com:9092,w02.itversity.com:9092'"
   ]
  },
  {
   "cell_type": "code",
   "execution_count": 3,
   "id": "7e9b652c",
   "metadata": {},
   "outputs": [],
   "source": [
    "df = spark. \\\n",
    "  readStream. \\\n",
    "  format('kafka'). \\\n",
    "  option('kafka.bootstrap.servers', kafka_bootstrap_servers). \\\n",
    "  option('subscribe', f'{username}_retail'). \\\n",
    "  load()"
   ]
  },
  {
   "cell_type": "code",
   "execution_count": 4,
   "id": "a515b503",
   "metadata": {},
   "outputs": [
    {
     "name": "stdout",
     "output_type": "stream",
     "text": [
      "root\n",
      " |-- key: binary (nullable = true)\n",
      " |-- value: binary (nullable = true)\n",
      " |-- topic: string (nullable = true)\n",
      " |-- partition: integer (nullable = true)\n",
      " |-- offset: long (nullable = true)\n",
      " |-- timestamp: timestamp (nullable = true)\n",
      " |-- timestampType: integer (nullable = true)\n",
      "\n"
     ]
    }
   ],
   "source": [
    "df.printSchema()"
   ]
  },
  {
   "cell_type": "code",
   "execution_count": null,
   "id": "833861cc",
   "metadata": {},
   "outputs": [],
   "source": [
    "df.selectExpr(\"CAST(key AS STRING)\", \"CAST(value AS STRING)\"). \\\n",
    "    writeStream. \\\n",
    "    format(\"memory\"). \\\n",
    "    queryName(\"log_messages\"). \\\n",
    "    start()"
   ]
  },
  {
   "cell_type": "code",
   "execution_count": 7,
   "id": "456f5457",
   "metadata": {},
   "outputs": [
    {
     "name": "stdout",
     "output_type": "stream",
     "text": [
      "+----+-------------------------------------------------------------------------------------------------------------------------------------------------------------------------------------------------------------------------------------+\n",
      "|key |value                                                                                                                                                                                                                                |\n",
      "+----+-------------------------------------------------------------------------------------------------------------------------------------------------------------------------------------------------------------------------------------+\n",
      "|null|148.240.97.17 - - [27/Aug/2021:14:29:36 -0800] \"GET /department/outdoors/categories HTTP/1.1\" 200 750 \"-\" \"Mozilla/5.0 (Macintosh; Intel Mac OS X 10_9_3) AppleWebKit/537.36 (KHTML, like Gecko) Chrome/35.0.1916.153 Safari/537.36\" |\n",
      "|null|170.63.83.83 - - [27/Aug/2021:14:29:38 -0800] \"GET /departments HTTP/1.1\" 200 2212 \"-\" \"Mozilla/5.0 (Macintosh; Intel Mac OS X 10_9_4) AppleWebKit/537.36 (KHTML, like Gecko) Chrome/36.0.1985.125 Safari/537.36\"                    |\n",
      "|null|39.175.126.157 - - [27/Aug/2021:14:29:37 -0800] \"GET /departments HTTP/1.1\" 200 1167 \"-\" \"Mozilla/5.0 (X11; Linux x86_64) AppleWebKit/537.36 (KHTML, like Gecko) Chrome/35.0.1916.153 Safari/537.36\"                                 |\n",
      "|null|77.2.90.200 - - [27/Aug/2021:14:29:39 -0800] \"GET /department/footwear/categories HTTP/1.1\" 200 1481 \"-\" \"Mozilla/5.0 (Windows NT 6.1; WOW64; rv:30.0) Gecko/20100101 Firefox/30.0\"                                                  |\n",
      "|null|80.84.200.44 - - [27/Aug/2021:14:29:41 -0800] \"GET /departments HTTP/1.1\" 200 1005 \"-\" \"Mozilla/5.0 (Windows NT 6.3; WOW64) AppleWebKit/537.36 (KHTML, like Gecko) Chrome/35.0.1916.153 Safari/537.36\"                               |\n",
      "|null|36.91.74.115 - - [27/Aug/2021:14:29:40 -0800] \"GET /department/apparel/products HTTP/1.1\" 404 2077 \"-\" \"Mozilla/5.0 (Macintosh; Intel Mac OS X 10_9_3) AppleWebKit/537.36 (KHTML, like Gecko) Chrome/35.0.1916.153 Safari/537.36\"    |\n",
      "|null|191.163.75.153 - - [27/Aug/2021:14:29:42 -0800] \"GET /departments HTTP/1.1\" 503 1143 \"-\" \"Mozilla/5.0 (X11; Linux x86_64) AppleWebKit/537.36 (KHTML, like Gecko) Chrome/35.0.1916.153 Safari/537.36\"                                 |\n",
      "|null|30.97.147.110 - - [27/Aug/2021:14:29:43 -0800] \"GET /department/apparel/products HTTP/1.1\" 200 1822 \"-\" \"Mozilla/5.0 (Macintosh; Intel Mac OS X 10_9_4) AppleWebKit/537.77.4 (KHTML, like Gecko) Version/7.0.5 Safari/537.77.4\"      |\n",
      "|null|157.13.91.229 - - [27/Aug/2021:14:29:44 -0800] \"GET /department/outdoors/products HTTP/1.1\" 200 2103 \"-\" \"Mozilla/5.0 (Windows NT 6.3; WOW64; rv:30.0) Gecko/20100101 Firefox/30.0\"                                                  |\n",
      "|null|151.52.176.145 - - [27/Aug/2021:14:29:45 -0800] \"GET /department/fan%20shop/categories HTTP/1.1\" 200 988 \"-\" \"Mozilla/5.0 (Windows NT 6.1; WOW64) AppleWebKit/537.36 (KHTML, like Gecko) Chrome/35.0.1916.153 Safari/537.36\"         |\n",
      "|null|187.31.151.78 - - [27/Aug/2021:14:29:46 -0800] \"GET /add_to_cart/536 HTTP/1.1\" 200 1164 \"-\" \"Mozilla/5.0 (Macintosh; Intel Mac OS X 10.9; rv:30.0) Gecko/20100101 Firefox/30.0\"                                                      |\n",
      "|null|59.117.253.154 - - [27/Aug/2021:14:29:47 -0800] \"GET /department/footwear/categories HTTP/1.1\" 200 935 \"-\" \"Mozilla/5.0 (Macintosh; Intel Mac OS X 10_9_3) AppleWebKit/537.36 (KHTML, like Gecko) Chrome/35.0.1916.153 Safari/537.36\"|\n",
      "|null|184.221.178.19 - - [27/Aug/2021:14:29:48 -0800] \"GET /department/fitness/products HTTP/1.1\" 200 1888 \"-\" \"Mozilla/5.0 (Windows NT 6.1; WOW64; rv:30.0) Gecko/20100101 Firefox/30.0\"                                                  |\n",
      "|null|80.84.200.44 - - [27/Aug/2021:14:29:49 -0800] \"GET /categories/electronics/products HTTP/1.1\" 200 1813 \"-\" \"Mozilla/5.0 (Windows NT 6.1; WOW64) AppleWebKit/537.36 (KHTML, like Gecko) Chrome/36.0.1985.125 Safari/537.36\"           |\n",
      "|null|117.156.108.118 - - [27/Aug/2021:14:29:50 -0800] \"GET /departments HTTP/1.1\" 200 1600 \"-\" \"Mozilla/5.0 (Windows NT 6.1; WOW64) AppleWebKit/537.36 (KHTML, like Gecko) Chrome/35.0.1916.153 Safari/537.36\"                            |\n",
      "|null|216.88.196.53 - - [27/Aug/2021:14:29:51 -0800] \"GET /departments HTTP/1.1\" 200 1942 \"-\" \"Mozilla/5.0 (Windows NT 6.1; WOW64) AppleWebKit/537.36 (KHTML, like Gecko) Chrome/35.0.1916.153 Safari/537.36\"                              |\n",
      "|null|112.227.222.220 - - [27/Aug/2021:14:29:52 -0800] \"GET /departments HTTP/1.1\" 200 293 \"-\" \"Mozilla/5.0 (Macintosh; Intel Mac OS X 10_9_3) AppleWebKit/537.36 (KHTML, like Gecko) Chrome/35.0.1916.153 Safari/537.36\"                  |\n",
      "|null|31.27.126.205 - - [27/Aug/2021:14:29:53 -0800] \"GET /logout HTTP/1.1\" 404 2119 \"-\" \"Mozilla/5.0 (Windows NT 6.1; rv:30.0) Gecko/20100101 Firefox/30.0\"                                                                               |\n",
      "|null|185.97.239.182 - - [27/Aug/2021:14:29:54 -0800] \"GET /login HTTP/1.1\" 200 319 \"-\" \"Mozilla/5.0 (Macintosh; Intel Mac OS X 10_9_4) AppleWebKit/537.77.4 (KHTML, like Gecko) Version/7.0.5 Safari/537.77.4\"                            |\n",
      "|null|159.0.81.220 - - [27/Aug/2021:14:29:55 -0800] \"GET /categories/yoga%20%26%20pilates/products HTTP/1.1\" 200 1037 \"-\" \"Mozilla/5.0 (Windows NT 6.1; WOW64; Trident/7.0; rv:11.0) like Gecko\"                                           |\n",
      "+----+-------------------------------------------------------------------------------------------------------------------------------------------------------------------------------------------------------------------------------------+\n",
      "only showing top 20 rows\n",
      "\n"
     ]
    }
   ],
   "source": [
    "spark.sql('SELECT * FROM log_messages').show(truncate=False)"
   ]
  },
  {
   "cell_type": "code",
   "execution_count": 9,
   "id": "cd8ab29b",
   "metadata": {},
   "outputs": [
    {
     "name": "stdout",
     "output_type": "stream",
     "text": [
      "+--------+\n",
      "|count(1)|\n",
      "+--------+\n",
      "|71      |\n",
      "+--------+\n",
      "\n"
     ]
    }
   ],
   "source": [
    "spark.sql('SELECT count(1) FROM log_messages').show(truncate=False)"
   ]
  },
  {
   "cell_type": "code",
   "execution_count": null,
   "id": "9707bf4a",
   "metadata": {},
   "outputs": [],
   "source": []
  },
  {
   "cell_type": "code",
   "execution_count": null,
   "id": "811434fd",
   "metadata": {},
   "outputs": [],
   "source": []
  }
 ],
 "metadata": {
  "kernelspec": {
   "display_name": "Pyspark 3",
   "language": "python",
   "name": "pyspark3"
  },
  "language_info": {
   "codemirror_mode": {
    "name": "ipython",
    "version": 3
   },
   "file_extension": ".py",
   "mimetype": "text/x-python",
   "name": "python",
   "nbconvert_exporter": "python",
   "pygments_lexer": "ipython3",
   "version": "3.6.12"
  }
 },
 "nbformat": 4,
 "nbformat_minor": 5
}
