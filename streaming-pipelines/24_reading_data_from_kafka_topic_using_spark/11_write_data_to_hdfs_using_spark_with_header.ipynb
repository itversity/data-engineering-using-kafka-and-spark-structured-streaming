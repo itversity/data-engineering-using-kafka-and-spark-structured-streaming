{
 "cells": [
  {
   "cell_type": "markdown",
   "id": "a03debd9",
   "metadata": {},
   "source": [
    "## Write Data to HDFS using Spark with Header\n",
    "\n",
    "Let us now write the data to HDFS using Spark Structured Streaming APIs. It will take care of writing streaming data frame to HDFS. \n",
    "\n",
    "Here are the steps that are involved.\n",
    "* Create spark session object.\n",
    "* Create streaming data frame by subscribing to Kafka topic leveraging `readStream`.\n",
    "* Apply required transformations to add new fields such as year, month and dayofmonth.\n",
    "* Write the data from streaming data frame to HDFS using appropriate format. We will be using `csv` for now. We can write data to all standard formats using streaming data frame.\n",
    "* We need to specify `checkpointLocation` while writing data to HDFS. The location should be in HDFS itself.\n",
    "* We will also specify options such as `header` and `sep` to provide names for the fields and also to customize the delimiter.\n",
    "* We will also validate whether data is being written to HDFS using csv format with header and custom separator."
   ]
  },
  {
   "cell_type": "code",
   "execution_count": 1,
   "id": "7d9a97a0",
   "metadata": {},
   "outputs": [],
   "source": [
    "from pyspark.sql import SparkSession\n",
    "\n",
    "import getpass\n",
    "username = getpass.getuser()\n",
    "\n",
    "spark = SparkSession. \\\n",
    "    builder. \\\n",
    "    config('spark.jars.packages', 'org.apache.spark:spark-sql-kafka-0-10_2.12:3.0.1'). \\\n",
    "    config('spark.ui.port', '0'). \\\n",
    "    config('spark.sql.warehouse.dir', f'/user/{username}/warehouse'). \\\n",
    "    enableHiveSupport(). \\\n",
    "    appName(f'{username} | Python - Kafka and Spark Integration'). \\\n",
    "    master('yarn'). \\\n",
    "    getOrCreate()"
   ]
  },
  {
   "cell_type": "code",
   "execution_count": 2,
   "id": "7944c9cf",
   "metadata": {},
   "outputs": [],
   "source": [
    "kafka_bootstrap_servers = 'w01.itversity.com:9092,w02.itversity.com:9092'"
   ]
  },
  {
   "cell_type": "code",
   "execution_count": 3,
   "id": "f8294ed3",
   "metadata": {},
   "outputs": [],
   "source": [
    "df = spark. \\\n",
    "  readStream. \\\n",
    "  format('kafka'). \\\n",
    "  option('kafka.bootstrap.servers', kafka_bootstrap_servers). \\\n",
    "  option('subscribe', f'{username}_retail'). \\\n",
    "  load()"
   ]
  },
  {
   "cell_type": "code",
   "execution_count": 4,
   "id": "62129686",
   "metadata": {},
   "outputs": [],
   "source": [
    "from pyspark.sql.functions import date_format, to_date, split, substring"
   ]
  },
  {
   "cell_type": "code",
   "execution_count": 5,
   "id": "ba7b5c9c",
   "metadata": {},
   "outputs": [
    {
     "name": "stdout",
     "output_type": "stream",
     "text": [
      "root\n",
      " |-- key: string (nullable = true)\n",
      " |-- value: string (nullable = true)\n",
      "\n"
     ]
    }
   ],
   "source": [
    "df.selectExpr(\"CAST(key AS STRING) AS key\", \"CAST(value AS STRING) AS value\").printSchema()"
   ]
  },
  {
   "cell_type": "code",
   "execution_count": 6,
   "id": "501452f0",
   "metadata": {},
   "outputs": [
    {
     "name": "stdout",
     "output_type": "stream",
     "text": [
      "Deleted /user/itversity/kafka/retail_logs\n"
     ]
    }
   ],
   "source": [
    "!hdfs dfs -rm -R -skipTrash /user/${USER}/kafka/retail_logs/"
   ]
  },
  {
   "cell_type": "code",
   "execution_count": 7,
   "id": "7277a34a",
   "metadata": {},
   "outputs": [
    {
     "data": {
      "text/plain": [
       "<pyspark.sql.streaming.StreamingQuery at 0x7f6957f96c88>"
      ]
     },
     "execution_count": 7,
     "metadata": {},
     "output_type": "execute_result"
    }
   ],
   "source": [
    "df.selectExpr(\"CAST(value AS STRING)\"). \\\n",
    "    withColumn('log_date', to_date(substring(split('value', ' ')[3], 2, 21), '[dd/MMM/yyyy:HH:mm:ss')). \\\n",
    "    withColumn('year', date_format('log_date', 'yyyy')). \\\n",
    "    withColumn('month', date_format('log_date', 'MM')). \\\n",
    "    withColumn('dayofmonth', date_format('log_date', 'dd')). \\\n",
    "    writeStream. \\\n",
    "    partitionBy('year', 'month', 'dayofmonth'). \\\n",
    "    format('csv'). \\\n",
    "    option(\"checkpointLocation\", f'/user/{username}/kafka/retail_logs/gen_logs/checkpoint'). \\\n",
    "    option('path', f'/user/{username}/kafka/retail_logs/gen_logs/data'). \\\n",
    "    option('header', True). \\\n",
    "    option('sep', '\\t'). \\\n",
    "    trigger(processingTime='30 seconds'). \\\n",
    "    start()"
   ]
  },
  {
   "cell_type": "code",
   "execution_count": 8,
   "id": "35db2957",
   "metadata": {},
   "outputs": [
    {
     "name": "stdout",
     "output_type": "stream",
     "text": [
      "Found 2 items\n",
      "drwxr-xr-x   - itversity itversity          0 2021-09-02 14:15 /user/itversity/kafka/retail_logs/gen_logs/checkpoint\n",
      "drwxr-xr-x   - itversity itversity          0 2021-09-02 14:15 /user/itversity/kafka/retail_logs/gen_logs/data\n"
     ]
    }
   ],
   "source": [
    "!hdfs dfs -ls /user/${USER}/kafka/retail_logs/gen_logs"
   ]
  },
  {
   "cell_type": "code",
   "execution_count": 9,
   "id": "f792a5a9",
   "metadata": {},
   "outputs": [
    {
     "name": "stdout",
     "output_type": "stream",
     "text": [
      "drwxr-xr-x   - itversity itversity          0 2021-09-02 14:15 /user/itversity/kafka/retail_logs/gen_logs/data/_spark_metadata\n",
      "-rw-r--r--   3 itversity itversity          2 2021-09-02 14:15 /user/itversity/kafka/retail_logs/gen_logs/data/_spark_metadata/0\n",
      "-rw-r--r--   3 itversity itversity        884 2021-09-02 14:15 /user/itversity/kafka/retail_logs/gen_logs/data/_spark_metadata/1\n",
      "drwxr-xr-x   - itversity itversity          0 2021-09-02 14:15 /user/itversity/kafka/retail_logs/gen_logs/data/year=2021\n",
      "drwxr-xr-x   - itversity itversity          0 2021-09-02 14:15 /user/itversity/kafka/retail_logs/gen_logs/data/year=2021/month=09\n",
      "drwxr-xr-x   - itversity itversity          0 2021-09-02 14:15 /user/itversity/kafka/retail_logs/gen_logs/data/year=2021/month=09/dayofmonth=02\n",
      "-rw-r--r--   3 itversity itversity        960 2021-09-02 14:15 /user/itversity/kafka/retail_logs/gen_logs/data/year=2021/month=09/dayofmonth=02/part-00000-838deec6-62f2-49d5-9db0-4760747fd3a0.c000.csv\n",
      "-rw-r--r--   3 itversity itversity        848 2021-09-02 14:15 /user/itversity/kafka/retail_logs/gen_logs/data/year=2021/month=09/dayofmonth=02/part-00001-96b694f2-acd3-4877-9da1-1dbceec8158b.c000.csv\n",
      "-rw-r--r--   3 itversity itversity        481 2021-09-02 14:15 /user/itversity/kafka/retail_logs/gen_logs/data/year=2021/month=09/dayofmonth=02/part-00002-182efb8d-e990-4036-8f1f-251b68c0e88e.c000.csv\n"
     ]
    }
   ],
   "source": [
    "!hdfs dfs -ls -R /user/${USER}/kafka/retail_logs/gen_logs/data"
   ]
  },
  {
   "cell_type": "code",
   "execution_count": 11,
   "id": "ebaa9b07",
   "metadata": {},
   "outputs": [
    {
     "name": "stdout",
     "output_type": "stream",
     "text": [
      "value\tlog_date\n",
      "\"107.151.90.45 - - [02/Sep/2021:14:15:23 -0800] \\\"GET /department/outdoors/products HTTP/1.1\\\" 200 1298 \\\"-\\\" \\\"Mozilla/5.0 (Windows NT 6.1; WOW64) AppleWebKit/537.36 (KHTML, like Gecko) Chrome/35.0.1916.153 Safari/537.36\\\"\"\t2021-09-02\n",
      "\"73.83.117.251 - - [02/Sep/2021:14:15:26 -0800] \\\"GET /departments HTTP/1.1\\\" 200 1260 \\\"-\\\" \\\"Mozilla/5.0 (Macintosh; Intel Mac OS X 10_9_4) AppleWebKit/537.36 (KHTML, like Gecko) Chrome/35.0.1916.153 Safari/537.36\\\"\"\t2021-09-02\n"
     ]
    }
   ],
   "source": [
    "!hdfs dfs -cat /user/itversity/kafka/retail_logs/gen_logs/data/year=2021/month=09/dayofmonth=02/part-00002-182efb8d-e990-4036-8f1f-251b68c0e88e.c000.csv"
   ]
  },
  {
   "cell_type": "code",
   "execution_count": 12,
   "id": "8a608cd4",
   "metadata": {},
   "outputs": [],
   "source": [
    "df = spark.read.csv(f'/user/{username}/kafka/retail_logs/gen_logs/data', sep='\\t', header=True)"
   ]
  },
  {
   "cell_type": "code",
   "execution_count": 13,
   "id": "96dcea0a",
   "metadata": {},
   "outputs": [
    {
     "name": "stdout",
     "output_type": "stream",
     "text": [
      "root\n",
      " |-- value: string (nullable = true)\n",
      " |-- log_date: string (nullable = true)\n",
      " |-- year: integer (nullable = true)\n",
      " |-- month: integer (nullable = true)\n",
      " |-- dayofmonth: integer (nullable = true)\n",
      "\n"
     ]
    }
   ],
   "source": [
    "df.printSchema()"
   ]
  },
  {
   "cell_type": "code",
   "execution_count": 14,
   "id": "f304386e",
   "metadata": {},
   "outputs": [
    {
     "name": "stdout",
     "output_type": "stream",
     "text": [
      "+---------------------------------------------------------------------------------------------------------------------------------------------------------------------------------------------------------------------------------------------+----------+----+-----+----------+\n",
      "|value                                                                                                                                                                                                                                        |log_date  |year|month|dayofmonth|\n",
      "+---------------------------------------------------------------------------------------------------------------------------------------------------------------------------------------------------------------------------------------------+----------+----+-----+----------+\n",
      "|199.93.223.194 - - [02/Sep/2021:14:21:00 -0800] \"GET /product/695 HTTP/1.1\" 200 1444 \"-\" \"Mozilla/5.0 (Macintosh; Intel Mac OS X 10_9_3) AppleWebKit/537.36 (KHTML, like Gecko) Chrome/35.0.1916.153 Safari/537.36\"                          |2021-09-02|2021|9    |2         |\n",
      "|33.200.65.90 - - [02/Sep/2021:14:21:02 -0800] \"GET /departments HTTP/1.1\" 200 1242 \"-\" \"Mozilla/5.0 (Macintosh; Intel Mac OS X 10_9_4) AppleWebKit/537.77.4 (KHTML, like Gecko) Version/7.0.5 Safari/537.77.4\"                               |2021-09-02|2021|9    |2         |\n",
      "|29.19.37.126 - - [02/Sep/2021:14:21:04 -0800] \"GET /categories/world%20cup%20shop/products HTTP/1.1\" 200 1243 \"-\" \"Mozilla/5.0 (Macintosh; Intel Mac OS X 10_9_3) AppleWebKit/537.36 (KHTML, like Gecko) Chrome/35.0.1916.153 Safari/537.36\" |2021-09-02|2021|9    |2         |\n",
      "|83.142.0.161 - - [02/Sep/2021:14:21:06 -0800] \"GET /departments HTTP/1.1\" 200 272 \"-\" \"Mozilla/5.0 (Windows NT 6.1; WOW64; rv:30.0) Gecko/20100101 Firefox/30.0\"                                                                             |2021-09-02|2021|9    |2         |\n",
      "|107.151.90.45 - - [02/Sep/2021:14:21:08 -0800] \"GET /departments HTTP/1.1\" 200 1566 \"-\" \"Mozilla/5.0 (Macintosh; Intel Mac OS X 10_9_4) AppleWebKit/537.77.4 (KHTML, like Gecko) Version/7.0.5 Safari/537.77.4\"                              |2021-09-02|2021|9    |2         |\n",
      "|212.170.212.13 - - [02/Sep/2021:14:21:10 -0800] \"GET /department/fitness/categories HTTP/1.1\" 200 1472 \"-\" \"Mozilla/5.0 (Macintosh; Intel Mac OS X 10_9_4) AppleWebKit/537.36 (KHTML, like Gecko) Chrome/35.0.1916.153 Safari/537.36\"        |2021-09-02|2021|9    |2         |\n",
      "|157.210.111.205 - - [02/Sep/2021:14:21:12 -0800] \"GET /add_to_cart/144 HTTP/1.1\" 200 1693 \"-\" \"Mozilla/5.0 (Macintosh; Intel Mac OS X 10_9_4) AppleWebKit/537.77.4 (KHTML, like Gecko) Version/7.0.5 Safari/537.77.4\"                        |2021-09-02|2021|9    |2         |\n",
      "|53.172.205.92 - - [02/Sep/2021:14:21:14 -0800] \"GET /department/team%20sports/products HTTP/1.1\" 200 555 \"-\" \"Mozilla/5.0 (Macintosh; Intel Mac OS X 10.9; rv:30.0) Gecko/20100101 Firefox/30.0\"                                             |2021-09-02|2021|9    |2         |\n",
      "|59.38.61.113 - - [02/Sep/2021:14:21:18 -0800] \"GET /categories/tennis%20%26%20racquet/products HTTP/1.1\" 200 514 \"-\" \"Mozilla/5.0 (Macintosh; Intel Mac OS X 10.9; rv:30.0) Gecko/20100101 Firefox/30.0\"                                     |2021-09-02|2021|9    |2         |\n",
      "|172.9.129.242 - - [02/Sep/2021:14:21:20 -0800] \"GET /department/outdoors/products HTTP/1.1\" 200 590 \"-\" \"Mozilla/5.0 (Macintosh; Intel Mac OS X 10_9_4) AppleWebKit/537.77.4 (KHTML, like Gecko) Version/7.0.5 Safari/537.77.4\"              |2021-09-02|2021|9    |2         |\n",
      "|119.124.239.27 - - [02/Sep/2021:14:21:22 -0800] \"GET /department/fitness/categories HTTP/1.1\" 404 429 \"-\" \"Mozilla/5.0 (Windows NT 6.1; WOW64; rv:30.0) Gecko/20100101 Firefox/30.0\"                                                         |2021-09-02|2021|9    |2         |\n",
      "|170.194.66.23 - - [02/Sep/2021:14:21:24 -0800] \"GET /departments HTTP/1.1\" 200 410 \"-\" \"Mozilla/5.0 (Macintosh; Intel Mac OS X 10.9; rv:30.0) Gecko/20100101 Firefox/30.0\"                                                                   |2021-09-02|2021|9    |2         |\n",
      "|107.151.90.45 - - [02/Sep/2021:14:21:26 -0800] \"GET /departments HTTP/1.1\" 200 197 \"-\" \"Mozilla/5.0 (Macintosh; Intel Mac OS X 10_9_3) AppleWebKit/537.36 (KHTML, like Gecko) Chrome/35.0.1916.153 Safari/537.36\"                            |2021-09-02|2021|9    |2         |\n",
      "|141.224.121.190 - - [02/Sep/2021:14:21:28 -0800] \"GET /categories/men%27s%20apparel/products HTTP/1.1\" 200 1039 \"-\" \"Mozilla/5.0 (Macintosh; Intel Mac OS X 10_9_3) AppleWebKit/537.76.4 (KHTML, like Gecko) Version/7.0.4 Safari/537.76.4\"  |2021-09-02|2021|9    |2         |\n",
      "|172.9.129.242 - - [02/Sep/2021:14:23:31 -0800] \"GET /department/fan%20shop/products HTTP/1.1\" 200 1517 \"-\" \"Mozilla/5.0 (Macintosh; Intel Mac OS X 10_9_4) AppleWebKit/537.36 (KHTML, like Gecko) Chrome/35.0.1916.153 Safari/537.36\"        |2021-09-02|2021|9    |2         |\n",
      "|157.112.61.4 - - [02/Sep/2021:14:23:34 -0800] \"GET /product/194 HTTP/1.1\" 200 1678 \"-\" \"Mozilla/5.0 (Windows NT 6.1; WOW64; rv:30.0) Gecko/20100101 Firefox/30.0\"                                                                            |2021-09-02|2021|9    |2         |\n",
      "|157.26.133.165 - - [02/Sep/2021:14:23:36 -0800] \"GET /department/outdoors/categories HTTP/1.1\" 200 258 \"-\" \"Mozilla/5.0 (Macintosh; Intel Mac OS X 10_9_3) AppleWebKit/537.76.4 (KHTML, like Gecko) Version/7.0.4 Safari/537.76.4\"           |2021-09-02|2021|9    |2         |\n",
      "|212.170.212.13 - - [02/Sep/2021:14:23:38 -0800] \"GET /categories/yoga%20%26%20pilates/products HTTP/1.1\" 200 1556 \"-\" \"Mozilla/5.0 (Macintosh; Intel Mac OS X 10_9_4) AppleWebKit/537.77.4 (KHTML, like Gecko) Version/7.0.5 Safari/537.77.4\"|2021-09-02|2021|9    |2         |\n",
      "|212.170.212.13 - - [02/Sep/2021:14:23:40 -0800] \"GET /department/team%20sports/categories HTTP/1.1\" 200 403 \"-\" \"Mozilla/5.0 (Windows NT 6.3; WOW64) AppleWebKit/537.36 (KHTML, like Gecko) Chrome/35.0.1916.153 Safari/537.36\"              |2021-09-02|2021|9    |2         |\n",
      "|212.240.48.217 - - [02/Sep/2021:14:23:42 -0800] \"GET /login HTTP/1.1\" 200 406 \"-\" \"Mozilla/5.0 (Macintosh; Intel Mac OS X 10_9_4) AppleWebKit/537.77.4 (KHTML, like Gecko) Version/7.0.5 Safari/537.77.4\"                                    |2021-09-02|2021|9    |2         |\n",
      "+---------------------------------------------------------------------------------------------------------------------------------------------------------------------------------------------------------------------------------------------+----------+----+-----+----------+\n",
      "only showing top 20 rows\n",
      "\n"
     ]
    }
   ],
   "source": [
    "df.show(truncate=False)"
   ]
  },
  {
   "cell_type": "code",
   "execution_count": null,
   "id": "5186a4bf",
   "metadata": {},
   "outputs": [],
   "source": []
  }
 ],
 "metadata": {
  "kernelspec": {
   "display_name": "Pyspark 3",
   "language": "python",
   "name": "pyspark3"
  },
  "language_info": {
   "codemirror_mode": {
    "name": "ipython",
    "version": 3
   },
   "file_extension": ".py",
   "mimetype": "text/x-python",
   "name": "python",
   "nbconvert_exporter": "python",
   "pygments_lexer": "ipython3",
   "version": "3.6.12"
  }
 },
 "nbformat": 4,
 "nbformat_minor": 5
}
