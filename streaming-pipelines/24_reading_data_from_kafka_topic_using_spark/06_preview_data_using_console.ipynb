{
 "cells": [
  {
   "cell_type": "markdown",
   "id": "31379a31",
   "metadata": {},
   "source": [
    "## Preview Data using console\n",
    "\n",
    "Let us preview the data consumed from Kafka topic using Spark Structured Streaming APIs.\n",
    "* We can either use `console` or `memory` as part of `writeStream.format` to preview the data.\n",
    "* First we will see how to preview the data using `console`. For that we need to launch the Pyspark CLI and run the relevant code."
   ]
  },
  {
   "cell_type": "markdown",
   "id": "7851674b",
   "metadata": {},
   "source": [
    "Launch Pyspark using below commands and run Spark Structured Streaming Code.\n",
    "\n",
    "**Using Pyspark2**\n",
    "\n",
    "```shell\n",
    "export PYSPARK_PYTHON=python3\n",
    "\n",
    "pyspark2 \\\n",
    "    --master yarn \\\n",
    "    --packages org.apache.spark:spark-sql-kafka-0-10_2.12:3.0.1 \\\n",
    "    --conf spark.ui.port=0 \\\n",
    "    --conf spark.sql.warehouse.dir=/user/${USER}/warehouse\n",
    "```\n",
    "\n",
    "**Using Pyspark3**\n",
    "\n",
    "```shell\n",
    "export PYSPARK_PYTHON=python3\n",
    "\n",
    "pyspark3 \\\n",
    "    --master yarn \\\n",
    "    --packages org.apache.spark:spark-sql-kafka-0-10_2.12:3.0.1 \\\n",
    "    --conf spark.ui.port=0 \\\n",
    "    --conf spark.sql.warehouse.dir=/user/${USER}/warehouse\n",
    "```"
   ]
  },
  {
   "cell_type": "markdown",
   "id": "39658647",
   "metadata": {},
   "source": [
    "* Let us create data frame and preview the schema.\n",
    "\n",
    "```python\n",
    "import getpass\n",
    "username = getpass.getuser()\n",
    "\n",
    "kafka_bootstrap_servers = 'w01.itversity.com:9092,w02.itversity.com:9092'\n",
    "\n",
    "df = spark. \\\n",
    "  readStream. \\\n",
    "  format('kafka'). \\\n",
    "  option('kafka.bootstrap.servers', kafka_bootstrap_servers). \\\n",
    "  option('subscribe', f'{username}_retail'). \\\n",
    "  load()\n",
    "\n",
    "df.printSchema()\n",
    "```"
   ]
  },
  {
   "cell_type": "markdown",
   "id": "6a6cafb2",
   "metadata": {},
   "source": [
    "We can use below code snippet using CLI to preview the data using `console`.\n",
    "```python\n",
    "df.selectExpr(\"CAST(key AS STRING)\", \"CAST(value AS STRING)\"). \\\n",
    "    writeStream. \\\n",
    "    format(\"console\"). \\\n",
    "    option('truncate', 'false'). \\\n",
    "    trigger(processingTime='5 seconds'). \\\n",
    "    start()\n",
    "```"
   ]
  },
  {
   "cell_type": "code",
   "execution_count": null,
   "id": "0be45695",
   "metadata": {},
   "outputs": [],
   "source": []
  }
 ],
 "metadata": {
  "kernelspec": {
   "display_name": "Pyspark 3",
   "language": "python",
   "name": "pyspark3"
  },
  "language_info": {
   "codemirror_mode": {
    "name": "ipython",
    "version": 3
   },
   "file_extension": ".py",
   "mimetype": "text/x-python",
   "name": "python",
   "nbconvert_exporter": "python",
   "pygments_lexer": "ipython3",
   "version": "3.6.12"
  }
 },
 "nbformat": 4,
 "nbformat_minor": 5
}
